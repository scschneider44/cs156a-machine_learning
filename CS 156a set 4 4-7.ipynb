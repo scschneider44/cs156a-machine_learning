{
 "cells": [
  {
   "cell_type": "code",
   "execution_count": 20,
   "metadata": {},
   "outputs": [],
   "source": [
    "import random as rand\n",
    "import numpy as np\n",
    "import matplotlib.pyplot as plt"
   ]
  },
  {
   "cell_type": "code",
   "execution_count": 21,
   "metadata": {},
   "outputs": [],
   "source": [
    "def sine_point_generator(num):\n",
    "    points = []\n",
    "    for i in range(num):\n",
    "        x_coord = rand.uniform(-1, 1)\n",
    "        y_coord = np.sin(np.pi*x_coord)\n",
    "        point = [x_coord, y_coord]\n",
    "        points.append(point)\n",
    "    return points"
   ]
  },
  {
   "cell_type": "code",
   "execution_count": 42,
   "metadata": {},
   "outputs": [],
   "source": [
    "def x_generator(num):\n",
    "    points = []\n",
    "    for i in range(num):\n",
    "        x_coord = rand.uniform(-1, 1)\n",
    "        point = [x_coord]\n",
    "        points.append(point)\n",
    "    return points"
   ]
  },
  {
   "cell_type": "code",
   "execution_count": 22,
   "metadata": {},
   "outputs": [
    {
     "data": {
      "text/plain": [
       "[<matplotlib.lines.Line2D at 0x82998d0>]"
      ]
     },
     "execution_count": 22,
     "metadata": {},
     "output_type": "execute_result"
    },
    {
     "data": {
      "image/png": "[encoded data removed]",
      "text/plain": [
       "<Figure size 432x288 with 1 Axes>"
      ]
     },
     "metadata": {},
     "output_type": "display_data"
    }
   ],
   "source": [
    "x = np.linspace(-1, 1, 10000)\n",
    "plt.plot(np.sin(np.pi*x))"
   ]
  },
  {
   "cell_type": "code",
   "execution_count": 89,
   "metadata": {},
   "outputs": [
    {
     "data": {
      "text/plain": [
       "1.4299560201942758"
      ]
     },
     "execution_count": 89,
     "metadata": {},
     "output_type": "execute_result"
    }
   ],
   "source": [
    "def a_hat_generator(num):\n",
    "    a = 0\n",
    "    for i in range(num):\n",
    "        pts = sine_point_generator(2)\n",
    "        x1 = pts[0][0]\n",
    "        x2 = pts[1][0]\n",
    "        a += (x1 *  np.sin(np.pi * x1)\n",
    "              + x2 * np.sin(np.pi * x2)) / (x1**2 + x2**2)\n",
    "    return a / num\n",
    "a_hat_generator(100000)"
   ]
  },
  {
   "cell_type": "code",
   "execution_count": 98,
   "metadata": {},
   "outputs": [
    {
     "data": {
      "text/plain": [
       "0.27019770223340095"
      ]
     },
     "execution_count": 98,
     "metadata": {},
     "output_type": "execute_result"
    }
   ],
   "source": [
    "def bias_calc(num, a_hat):\n",
    "    bias = 0\n",
    "    x = x_generator(num)\n",
    "    for i in range(len(x)):\n",
    "        bias += (a_hat * x[i][0] - np.sin(np.pi * x[i][0]))**2\n",
    "    return bias / num\n",
    "a_hat = a_hat_generator(100000)\n",
    "bias_calc(100000, a_hat)"
   ]
  },
  {
   "cell_type": "code",
   "execution_count": 112,
   "metadata": {},
   "outputs": [
    {
     "data": {
      "text/plain": [
       "0.23788252786500277"
      ]
     },
     "execution_count": 112,
     "metadata": {},
     "output_type": "execute_result"
    }
   ],
   "source": [
    "def var_calc(num_trials, num_x):\n",
    "    a = 0\n",
    "    var = 0\n",
    "    a_hat = a_hat_generator(1000)\n",
    "    for i in range(num_trials):\n",
    "        pts = sine_point_generator(2)\n",
    "        x1 = pts[0][0]\n",
    "        x2 = pts[1][0]\n",
    "        a = (x1 *  np.sin(np.pi * x1)\n",
    "              + x2 * np.sin(np.pi * x2)) / (x1**2 + x2**2)\n",
    "        x = x_generator(num_x)\n",
    "        for j in range(len(x)):\n",
    "            var += (a * x[j][0] - a_hat * x[j][0])**2\n",
    "    return var / (num_trials * num_x)\n",
    "var_calc(1000, 1000)"
   ]
  },
  {
   "cell_type": "code",
   "execution_count": 140,
   "metadata": {},
   "outputs": [
    {
     "data": {
      "text/plain": [
       "16.249507535588087"
      ]
     },
     "execution_count": 140,
     "metadata": {},
     "output_type": "execute_result"
    }
   ],
   "source": [
    "def e_out_ax_squared(num_trials, num_x):\n",
    "    a = 0\n",
    "    e_out = 0\n",
    "    for i in range(num_trials):\n",
    "        pts = sine_point_generator(2)\n",
    "        x1 = pts[0][0]\n",
    "        x2 = pts[1][0]\n",
    "        a = (x1**2 *  np.sin(np.pi * x1)\n",
    "              + x2**2 * np.sin(np.pi * x2)) / (x1**4 + x2**4)\n",
    "        x = x_generator(num_x)\n",
    "        for j in range(len(x)):\n",
    "            e_out += (a * x[j][0] - np.sin(np.pi * x[j][0]))**2\n",
    "    return e_out / (num_trials * num_x)\n",
    "e_out_ax_squared(1000, 1000)"
   ]
  },
  {
   "cell_type": "code",
   "execution_count": 134,
   "metadata": {},
   "outputs": [
    {
     "data": {
      "text/plain": [
       "1038.0706296730361"
      ]
     },
     "execution_count": 134,
     "metadata": {},
     "output_type": "execute_result"
    }
   ],
   "source": [
    "def e_out_ax_squared_plusb(num_trials, num_x):\n",
    "    a = 0\n",
    "    e_out = 0\n",
    "    b = 0\n",
    "    for i in range(num_trials):\n",
    "        pts = sine_point_generator(2)\n",
    "        x1 = pts[0][0]\n",
    "        x2 = pts[1][0]\n",
    "        a = (np.sin(np.pi * x1) - np.sin(np.pi * x2)) / (x1**2 - x2**2)\n",
    "        b = (np.sin(np.pi * x1)) - a * x1**2\n",
    "        x = x_generator(num_x)\n",
    "        for j in range(len(x)):\n",
    "            e_out += ((a * x[j][0] + b) - np.sin(np.pi * x[j][0]))**2\n",
    "    return e_out / (num_trials * num_x)\n",
    "e_out_ax_squared_plusb(1000, 1000)"
   ]
  },
  {
   "cell_type": "code",
   "execution_count": null,
   "metadata": {},
   "outputs": [],
   "source": []
  },
  {
   "cell_type": "code",
   "execution_count": null,
   "metadata": {},
   "outputs": [],
   "source": []
  }
 ],
 "metadata": {
  "kernelspec": {
   "display_name": "Python 3",
   "language": "python",
   "name": "python3"
  },
  "language_info": {
   "codemirror_mode": {
    "name": "ipython",
    "version": 3
   },
   "file_extension": ".py",
   "mimetype": "text/x-python",
   "name": "python",
   "nbconvert_exporter": "python",
   "pygments_lexer": "ipython3",
   "version": "3.6.5"
  }
 },
 "nbformat": 4,
 "nbformat_minor": 2
}
