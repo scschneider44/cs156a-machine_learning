{
 "cells": [
  {
   "cell_type": "code",
   "execution_count": 69,
   "metadata": {},
   "outputs": [],
   "source": [
    "import sklearn.svm as svm\n",
    "import numpy as np\n",
    "from sklearn.model_selection import KFold"
   ]
  },
  {
   "cell_type": "code",
   "execution_count": 3,
   "metadata": {},
   "outputs": [],
   "source": [
    "C = 0.01\n",
    "Q = 2"
   ]
  },
  {
   "cell_type": "code",
   "execution_count": 4,
   "metadata": {},
   "outputs": [],
   "source": [
    "train = np.loadtxt(fname = \"C:\\\\Users\\\\Spencer\\\\Downloads\\\\features.train.txt\")\n",
    "test = np.loadtxt(fname = \"C:\\\\Users\\\\Spencer\\\\Downloads\\\\features.test.txt\")"
   ]
  },
  {
   "cell_type": "code",
   "execution_count": 5,
   "metadata": {},
   "outputs": [],
   "source": [
    "def one_verses_all(num):\n",
    "    y = []\n",
    "    X = []\n",
    "    for i in range(len(train)):\n",
    "        if train[i][0] == num:\n",
    "            y.append(1)\n",
    "        else:\n",
    "            y.append(-1)\n",
    "    for j in range(len(train)):\n",
    "        X.append([train[j][1], train[j][2]])\n",
    "    return(X, y)"
   ]
  },
  {
   "cell_type": "code",
   "execution_count": 42,
   "metadata": {},
   "outputs": [],
   "source": [
    "def one_verses_one_train(num1, num2):\n",
    "    y = []\n",
    "    X = []\n",
    "    for i in range(len(train)):\n",
    "        if train[i][0] == num1:\n",
    "            y.append(1)\n",
    "        if train[i][0] == num2:\n",
    "            y.append(-1)\n",
    "    for j in range(len(train)):\n",
    "        if train[j][0] == num1 or train[j][0] == num2:\n",
    "            X.append([train[j][1], train[j][2]])\n",
    "    return(X, y)"
   ]
  },
  {
   "cell_type": "code",
   "execution_count": 47,
   "metadata": {},
   "outputs": [],
   "source": [
    "def one_verses_one_test(num1, num2):\n",
    "    y = []\n",
    "    X = []\n",
    "    for i in range(len(test)):\n",
    "        if test[i][0] == num1:\n",
    "            y.append(1)\n",
    "        if test[i][0] == num2:\n",
    "            y.append(-1)\n",
    "    for j in range(len(test)):\n",
    "        if test[j][0] == num1 or test[j][0] == num2:\n",
    "            X.append([test[j][1], test[j][2]])\n",
    "    return(X, y)"
   ]
  },
  {
   "cell_type": "code",
   "execution_count": 23,
   "metadata": {},
   "outputs": [],
   "source": [
    "scores = []\n",
    "for i in range(10):\n",
    "    data = one_verses_all(i)\n",
    "    clf = svm.SVC(C = C, kernel = 'poly', degree = 2, coef0 = 1, gamma = 1)\n",
    "    clf.fit(data[0], data[1])\n",
    "    score = abs(clf.score(data[0], data[1]) - 1)\n",
    "    scores.append((score, i))"
   ]
  },
  {
   "cell_type": "markdown",
   "metadata": {},
   "source": [
    "Problem 2"
   ]
  },
  {
   "cell_type": "code",
   "execution_count": 24,
   "metadata": {},
   "outputs": [
    {
     "data": {
      "text/plain": [
       "[(0.10588396653408316, 0),\n",
       " (0.10026059525442321, 2),\n",
       " (0.08942531888629812, 4),\n",
       " (0.09107118365107669, 6),\n",
       " (0.074338225209162, 8)]"
      ]
     },
     "execution_count": 24,
     "metadata": {},
     "output_type": "execute_result"
    }
   ],
   "source": [
    "scores[:9:2]"
   ]
  },
  {
   "cell_type": "markdown",
   "metadata": {},
   "source": [
    "Problem 3"
   ]
  },
  {
   "cell_type": "code",
   "execution_count": 25,
   "metadata": {},
   "outputs": [
    {
     "data": {
      "text/plain": [
       "[(0.014401316691811772, 1),\n",
       " (0.09024825126868741, 3),\n",
       " (0.07625840076807022, 5),\n",
       " (0.08846523110684401, 7),\n",
       " (0.08832807570977919, 9)]"
      ]
     },
     "execution_count": 25,
     "metadata": {},
     "output_type": "execute_result"
    }
   ],
   "source": [
    "scores[1:10:2]"
   ]
  },
  {
   "cell_type": "markdown",
   "metadata": {},
   "source": [
    "Problem 4"
   ]
  },
  {
   "cell_type": "code",
   "execution_count": 36,
   "metadata": {},
   "outputs": [],
   "source": [
    "data = one_verses_all(0)\n",
    "clf0 = svm.SVC(C = C, kernel = 'poly', degree = 2, coef0 = 1, gamma = 1)\n",
    "clf0.fit(data[0], data[1])\n",
    "sv0 = len(clf0.support_vectors_)"
   ]
  },
  {
   "cell_type": "code",
   "execution_count": 37,
   "metadata": {},
   "outputs": [],
   "source": [
    "data = one_verses_all(1)\n",
    "clf1 = svm.SVC(C = C, kernel = 'poly', degree = 2, coef0 = 1, gamma = 1)\n",
    "clf1.fit(data[0], data[1])\n",
    "sv1 = len(clf1.support_vectors_)"
   ]
  },
  {
   "cell_type": "code",
   "execution_count": 38,
   "metadata": {},
   "outputs": [
    {
     "data": {
      "text/plain": [
       "1793"
      ]
     },
     "execution_count": 38,
     "metadata": {},
     "output_type": "execute_result"
    }
   ],
   "source": [
    "abs(sv0 - sv1)"
   ]
  },
  {
   "cell_type": "markdown",
   "metadata": {},
   "source": [
    "Problems 5 and 6"
   ]
  },
  {
   "cell_type": "code",
   "execution_count": 52,
   "metadata": {},
   "outputs": [
    {
     "data": {
      "text/plain": [
       "([236, 76, 34, 24, 24],\n",
       " [0.008968609865470878,\n",
       "  0.004484304932735439,\n",
       "  0.004484304932735439,\n",
       "  0.004484304932735439,\n",
       "  0.0032030749519538215],\n",
       " [0.01650943396226412,\n",
       "  0.01650943396226412,\n",
       "  0.018867924528301883,\n",
       "  0.018867924528301883,\n",
       "  0.018867924528301883])"
      ]
     },
     "execution_count": 52,
     "metadata": {},
     "output_type": "execute_result"
    }
   ],
   "source": [
    "Q = 2\n",
    "cs = [0.0001, 0.001, 0.01, 0.1, 1]\n",
    "e_in = []\n",
    "svs = []\n",
    "e_out = []\n",
    "for i in range(5):\n",
    "    data = one_verses_one_train(1, 5)\n",
    "    data_test = one_verses_one_test(1, 5)\n",
    "    clf = svm.SVC(C = cs[i], kernel = 'poly', degree = Q, coef0 = 1, gamma = 1)\n",
    "    clf.fit(data[0], data[1])\n",
    "    score = abs(clf.score(data[0], data[1]) - 1)\n",
    "    e_in.append(score)\n",
    "    svs.append(len(clf.support_vectors_))\n",
    "    e_out.append(abs(clf.score(data_test[0], data_test[1]) - 1))\n",
    "(svs, e_in, e_out)"
   ]
  },
  {
   "cell_type": "code",
   "execution_count": 53,
   "metadata": {},
   "outputs": [
    {
     "data": {
      "text/plain": [
       "([26, 25, 23, 25, 21],\n",
       " [0.004484304932735439,\n",
       "  0.004484304932735439,\n",
       "  0.0038436899423446302,\n",
       "  0.0032030749519538215,\n",
       "  0.0032030749519538215],\n",
       " [0.018867924528301883,\n",
       "  0.021226415094339646,\n",
       "  0.021226415094339646,\n",
       "  0.018867924528301883,\n",
       "  0.021226415094339646])"
      ]
     },
     "execution_count": 53,
     "metadata": {},
     "output_type": "execute_result"
    }
   ],
   "source": [
    "Q = 5\n",
    "cs = [0.0001, 0.001, 0.01, 0.1, 1]\n",
    "e_in = []\n",
    "svs = []\n",
    "e_out = []\n",
    "for i in range(5):\n",
    "    data = one_verses_one_train(1, 5)\n",
    "    data_test = one_verses_one_test(1, 5)\n",
    "    clf = svm.SVC(C = cs[i], kernel = 'poly', degree = Q, coef0 = 1, gamma = 1)\n",
    "    clf.fit(data[0], data[1])\n",
    "    score = abs(clf.score(data[0], data[1]) - 1)\n",
    "    e_in.append(score)\n",
    "    svs.append(len(clf.support_vectors_))\n",
    "    e_out.append(abs(clf.score(data_test[0], data_test[1]) - 1))\n",
    "(svs, e_in, e_out)"
   ]
  },
  {
   "cell_type": "markdown",
   "metadata": {},
   "source": [
    "Problems 7 and 8"
   ]
  },
  {
   "cell_type": "code",
   "execution_count": 84,
   "metadata": {},
   "outputs": [],
   "source": [
    "Q = 2\n",
    "cs = [0.0001, 0.001, 0.01, 0.1, 1]\n",
    "best = {0.0001:0, 0.001:0, 0.01:0, 0.1:0, 1:0}\n",
    "for i in range(100):\n",
    "    avg_cv_error = []\n",
    "    for c in cs:\n",
    "        data = one_verses_one_train(1, 5)\n",
    "        X = data[0]\n",
    "        y = data[1]\n",
    "        clf = svm.SVC(C = c, kernel = 'poly', degree = Q, coef0 = 1, gamma = 1)\n",
    "        kf = KFold(n_splits=10, shuffle = True)\n",
    "        cv_error = []\n",
    "        for train_index, test_index in kf.split(X, y):\n",
    "            X_train = []\n",
    "            y_train = []\n",
    "            for j in train_index:\n",
    "                X_train.append(X[j])\n",
    "                y_train.append(y[j])\n",
    "            clf.fit(X_train, y_train)\n",
    "            \n",
    "            X_test = []\n",
    "            y_test = []\n",
    "            for k in test_index:\n",
    "                X_test.append(X[k])\n",
    "                y_test.append(y[k])\n",
    "            error = abs(clf.score(X_test, y_test) - 1)\n",
    "            cv_error.append(error)\n",
    "        avg_cv_error.append((np.mean(cv_error), c))\n",
    "    best[min(avg_cv_error)[1]] += 1"
   ]
  },
  {
   "cell_type": "code",
   "execution_count": 85,
   "metadata": {},
   "outputs": [
    {
     "data": {
      "text/plain": [
       "{0.0001: 0, 0.001: 35, 0.01: 24, 0.1: 22, 1: 19}"
      ]
     },
     "execution_count": 85,
     "metadata": {},
     "output_type": "execute_result"
    }
   ],
   "source": [
    "best"
   ]
  },
  {
   "cell_type": "code",
   "execution_count": 86,
   "metadata": {},
   "outputs": [
    {
     "data": {
      "text/plain": [
       "[(0.009607218683651785, 0.0001),\n",
       " (0.004483096521313068, 0.001),\n",
       " (0.004483096521313068, 0.01),\n",
       " (0.00512820512820511, 0.1),\n",
       " (0.004487179487179471, 1)]"
      ]
     },
     "execution_count": 86,
     "metadata": {},
     "output_type": "execute_result"
    }
   ],
   "source": [
    "avg_cv_error"
   ]
  },
  {
   "cell_type": "markdown",
   "metadata": {},
   "source": [
    "Problems 9 and 10"
   ]
  },
  {
   "cell_type": "code",
   "execution_count": 91,
   "metadata": {},
   "outputs": [
    {
     "data": {
      "text/plain": [
       "([0.0038436899423446302,\n",
       "  0.004484304932735439,\n",
       "  0.0032030749519538215,\n",
       "  0.002562459961563124,\n",
       "  0.0006406149903908087],\n",
       " [0.02358490566037741,\n",
       "  0.021226415094339646,\n",
       "  0.018867924528301883,\n",
       "  0.02358490566037741,\n",
       "  0.02358490566037741])"
      ]
     },
     "execution_count": 91,
     "metadata": {},
     "output_type": "execute_result"
    }
   ],
   "source": [
    "Q = 2\n",
    "cs = [0.01, 1, 100, 10000, 1000000]\n",
    "e_in = []\n",
    "e_out = []\n",
    "for c in cs:\n",
    "    data = one_verses_one_train(1, 5)\n",
    "    data_test = one_verses_one_test(1, 5)\n",
    "    clf = svm.SVC(C = c, kernel = 'rbf', degree = Q, coef0 = 1, gamma = 1)\n",
    "    clf.fit(data[0], data[1])\n",
    "    score = abs(clf.score(data[0], data[1]) - 1)\n",
    "    e_in.append(score)\n",
    "    e_out.append(abs(clf.score(data_test[0], data_test[1]) - 1))\n",
    "(e_in, e_out)"
   ]
  },
  {
   "cell_type": "code",
   "execution_count": null,
   "metadata": {},
   "outputs": [],
   "source": []
  },
  {
   "cell_type": "code",
   "execution_count": null,
   "metadata": {},
   "outputs": [],
   "source": []
  },
  {
   "cell_type": "code",
   "execution_count": null,
   "metadata": {},
   "outputs": [],
   "source": []
  }
 ],
 "metadata": {
  "kernelspec": {
   "display_name": "Python 3",
   "language": "python",
   "name": "python3"
  },
  "language_info": {
   "codemirror_mode": {
    "name": "ipython",
    "version": 3
   },
   "file_extension": ".py",
   "mimetype": "text/x-python",
   "name": "python",
   "nbconvert_exporter": "python",
   "pygments_lexer": "ipython3",
   "version": "3.6.5"
  }
 },
 "nbformat": 4,
 "nbformat_minor": 2
}
