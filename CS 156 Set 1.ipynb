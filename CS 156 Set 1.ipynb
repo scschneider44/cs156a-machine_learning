{
 "cells": [
  {
   "cell_type": "code",
   "execution_count": 15,
   "metadata": {},
   "outputs": [],
   "source": [
    "import random as rand\n",
    "import numpy as np\n",
    "import matplotlib.pyplot as plt"
   ]
  },
  {
   "cell_type": "code",
   "execution_count": 16,
   "metadata": {},
   "outputs": [],
   "source": [
    "def point_generator(num):\n",
    "    points = []\n",
    "    for i in range(num):\n",
    "        x_coord = rand.uniform(-1, 1)\n",
    "        y_coord = rand.uniform(-1, 1)\n",
    "        point = (x_coord, y_coord)\n",
    "        points.append(point)\n",
    "    return points"
   ]
  },
  {
   "cell_type": "code",
   "execution_count": 17,
   "metadata": {},
   "outputs": [],
   "source": [
    "def line_maker():\n",
    "    point1 = (rand.uniform(-1, 1), rand.uniform(-1, 1))\n",
    "    point2 = (rand.uniform(-1, 1), rand.uniform(-1, 1))\n",
    "    m = (point2[1] - point1[1]) / (point2[0] - point1[0])\n",
    "    intercept = -m * point1[0] + point1[1]\n",
    "    return (m, intercept)"
   ]
  },
  {
   "cell_type": "code",
   "execution_count": 29,
   "metadata": {},
   "outputs": [],
   "source": [
    "def classifier(points, line):\n",
    "    label = 0\n",
    "    training_set = []\n",
    "    for i in range(len(points)):\n",
    "        if points[i][1] > points[i][0] * line[0] + line[1]:\n",
    "            label = 1\n",
    "        else:\n",
    "            label = -1\n",
    "        training_set.append((1, points[i][0], points[i][1], label))\n",
    "    return training_set"
   ]
  },
  {
   "cell_type": "code",
   "execution_count": 88,
   "metadata": {},
   "outputs": [],
   "source": [
    "def perceptron(num):\n",
    "    points = point_generator(num)\n",
    "    target_function = line_maker()\n",
    "    labeled_set = classifier(points, target_function)\n",
    "    weight_vector = [0, 0, 0]\n",
    "    misclassified = labeled_set\n",
    "    iterations = 0\n",
    "    while len(misclassified) > 0:\n",
    "        iterations += 1\n",
    "        mpoint = rand.choice(misclassified)\n",
    "        label = mpoint[3]\n",
    "        for i in range(3):\n",
    "            weight_vector[i] += mpoint[i] * label\n",
    "        misclassified = []\n",
    "        for i in range(len(labeled_set)):\n",
    "            if np.sign(weight_vector[0] * labeled_set[i][0] +\n",
    "                    weight_vector[1] * labeled_set[i][1] +\n",
    "                    weight_vector[2] * labeled_set[i][2]) != labeled_set[i][3]:\n",
    "                misclassified.append(labeled_set[i])\n",
    "    return (weight_vector, iterations, target_function)"
   ]
  },
  {
   "cell_type": "code",
   "execution_count": 99,
   "metadata": {},
   "outputs": [],
   "source": [
    "def average_iter(runs, nums):\n",
    "    total = 0\n",
    "    for i in range(runs):\n",
    "        total += perceptron(nums)[1]\n",
    "    avg = total / runs\n",
    "    return avg"
   ]
  },
  {
   "cell_type": "code",
   "execution_count": 763,
   "metadata": {},
   "outputs": [
    {
     "data": {
      "text/plain": [
       "15.455"
      ]
     },
     "execution_count": 763,
     "metadata": {},
     "output_type": "execute_result"
    }
   ],
   "source": [
    "average_iter(1000, 10)"
   ]
  },
  {
   "cell_type": "code",
   "execution_count": 735,
   "metadata": {},
   "outputs": [],
   "source": [
    "def error(num, testing_points):\n",
    "    count = 0\n",
    "    p = perceptron(num)\n",
    "    weight_vector = p[0]\n",
    "    target_function = p[2]\n",
    "    points = point_generator(testing_points)\n",
    "    labeled_set = classifier(points, target_function)\n",
    "    for i in range(len(labeled_set)):\n",
    "        if np.sign(weight_vector[0] * labeled_set[i][0] +\n",
    "                    weight_vector[1] * labeled_set[i][1] +\n",
    "                    weight_vector[2] * labeled_set[i][2]) != labeled_set[i][3]:\n",
    "                count += 1\n",
    "    return (count / testing_points)\n",
    "    "
   ]
  },
  {
   "cell_type": "code",
   "execution_count": 327,
   "metadata": {},
   "outputs": [],
   "source": [
    "def average_error(runs, nums):\n",
    "    total = 0\n",
    "    for i in range(runs):\n",
    "        total += error(nums, 10000)\n",
    "    avg = total / runs\n",
    "    return avg"
   ]
  },
  {
   "cell_type": "code",
   "execution_count": 765,
   "metadata": {},
   "outputs": [
    {
     "data": {
      "text/plain": [
       "0.11029190000000001"
      ]
     },
     "execution_count": 765,
     "metadata": {},
     "output_type": "execute_result"
    }
   ],
   "source": [
    "average_error(1000, 10)"
   ]
  },
  {
   "cell_type": "code",
   "execution_count": 764,
   "metadata": {},
   "outputs": [
    {
     "data": {
      "text/plain": [
       "99.556"
      ]
     },
     "execution_count": 764,
     "metadata": {},
     "output_type": "execute_result"
    }
   ],
   "source": [
    "average_iter(1000, 100)"
   ]
  },
  {
   "cell_type": "code",
   "execution_count": 578,
   "metadata": {},
   "outputs": [
    {
     "data": {
      "text/plain": [
       "0.012962899999999984"
      ]
     },
     "execution_count": 578,
     "metadata": {},
     "output_type": "execute_result"
    }
   ],
   "source": [
    "average_error(1000, 100)"
   ]
  },
  {
   "cell_type": "code",
   "execution_count": null,
   "metadata": {},
   "outputs": [],
   "source": []
  }
 ],
 "metadata": {
  "kernelspec": {
   "display_name": "Python 3",
   "language": "python",
   "name": "python3"
  },
  "language_info": {
   "codemirror_mode": {
    "name": "ipython",
    "version": 3
   },
   "file_extension": ".py",
   "mimetype": "text/x-python",
   "name": "python",
   "nbconvert_exporter": "python",
   "pygments_lexer": "ipython3",
   "version": "3.6.5"
  }
 },
 "nbformat": 4,
 "nbformat_minor": 2
}
