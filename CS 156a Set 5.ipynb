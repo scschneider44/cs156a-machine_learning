{
 "cells": [
  {
   "cell_type": "code",
   "execution_count": 2,
   "metadata": {},
   "outputs": [],
   "source": [
    "import math\n",
    "import numpy as np\n",
    "import random as rand"
   ]
  },
  {
   "cell_type": "code",
   "execution_count": 8,
   "metadata": {},
   "outputs": [],
   "source": [
    "def line_maker():\n",
    "    point1 = (rand.uniform(-1, 1), rand.uniform(-1, 1))\n",
    "    point2 = (rand.uniform(-1, 1), rand.uniform(-1, 1))\n",
    "    m = (point2[1] - point1[1]) / (point2[0] - point1[0])\n",
    "    intercept = -m * point1[0] + point1[1]\n",
    "    return (m, intercept)"
   ]
  },
  {
   "cell_type": "code",
   "execution_count": 9,
   "metadata": {},
   "outputs": [],
   "source": [
    "def point_generator(num):\n",
    "    points = []\n",
    "    for i in range(num):\n",
    "        x_coord = rand.uniform(-1, 1)\n",
    "        y_coord = rand.uniform(-1, 1)\n",
    "        point = (1, x_coord, y_coord)\n",
    "        points.append(point)\n",
    "    return np.asarray(points)"
   ]
  },
  {
   "cell_type": "code",
   "execution_count": 10,
   "metadata": {},
   "outputs": [],
   "source": [
    "def classifier(points, line):\n",
    "    label = 0\n",
    "    training_set = []\n",
    "    for i in range(len(points)):\n",
    "        if points[i][2] > points[i][1] * line[0] + line[1]:\n",
    "            label = 1\n",
    "        else:\n",
    "            label = -1\n",
    "        training_set.append((points[i][0], points[i][1], points[i][2], label))\n",
    "    return training_set"
   ]
  },
  {
   "cell_type": "code",
   "execution_count": 11,
   "metadata": {},
   "outputs": [],
   "source": [
    "def logistic_regression(num_train_pts):\n",
    "    epochs = 0\n",
    "    eta = 0.01\n",
    "    w = [0, 0, 0]\n",
    "    weight = np.array([w])\n",
    "    \n",
    "    # dummy w_prev to enter the while loop\n",
    "    w_2 = [1, 1, 1]\n",
    "    w_prev = np.array([w_2])\n",
    "    w_curr = np.array([w])\n",
    "\n",
    "    pts = point_generator(num_train_pts)\n",
    "    line = line_maker()\n",
    "    while  np.linalg.norm(w_curr - w_prev) > 0.01:\n",
    "        epochs += 1\n",
    "        w_prev = weight\n",
    "        y = []\n",
    "        np.random.shuffle(pts)\n",
    "        classified_pts = classifier(pts, line)\n",
    "        \n",
    "        for i in range(num_train_pts):\n",
    "            y.append(classified_pts[i][3])\n",
    "                     \n",
    "        for j in range(len(pts)):\n",
    "            gradient_e_in = (y[j] * pts[j]) / (1 + math.exp(y[j] * np.dot(pts[j], weight.T)))\n",
    "            weight = weight + eta * gradient_e_in\n",
    "        w_curr = weight\n",
    "    return (epochs, line, w_curr)"
   ]
  },
  {
   "cell_type": "code",
   "execution_count": 91,
   "metadata": {},
   "outputs": [],
   "source": [
    "(u, v) = np.array([1,1])"
   ]
  },
  {
   "cell_type": "code",
   "execution_count": 88,
   "metadata": {},
   "outputs": [
    {
     "name": "stdout",
     "output_type": "stream",
     "text": [
      "(0.04473629039778207, 0.023958714099141746)\n",
      "10\n"
     ]
    }
   ],
   "source": [
    "iters = 0\n",
    "eta = np.array([0.1])\n",
    "while (u * math.exp(v) - 2 * v * math.exp(-u))**2 > 10**-14:\n",
    "    iters += 1\n",
    "    partial_u = np.array([2 * (u * math.exp(v) - 2 * v * math.exp(-u)) * (math.exp(v) + 2 * v * math.exp(-u))])\n",
    "    partial_v = np.array([2 * (u * math.exp(v) - 2 * v * math.exp(-u)) * (u * math.exp(v) - 2 * math.exp(-u))])\n",
    "    (u, v) = (u, v) - np.dot((partial_u, partial_v), eta)\n",
    "print((u, v))\n",
    "print(iters)"
   ]
  },
  {
   "cell_type": "code",
   "execution_count": 3,
   "metadata": {},
   "outputs": [],
   "source": [
    "u = 1\n",
    "v = 1\n",
    "eta_coord = 0.1\n",
    "for i in range(15):\n",
    "    partial_u = 2 * (u * math.exp(v) - 2 * v * math.exp(-u)) * (math.exp(v) + 2 * v * math.exp(-u))\n",
    "    partial_v = 2 * (u * math.exp(v) - 2 * math.exp(-u)) * (u * math.exp(v) - 2 * math.exp(-u))\n",
    "    v -= (partial_v * eta_coord)\n",
    "    u -= (partial_u * eta_coord)"
   ]
  },
  {
   "cell_type": "code",
   "execution_count": 7,
   "metadata": {},
   "outputs": [
    {
     "data": {
      "text/plain": [
       "0.1735219682836355"
      ]
     },
     "execution_count": 7,
     "metadata": {},
     "output_type": "execute_result"
    }
   ],
   "source": [
    "x = (u * math.exp(v) - 2 * v * math.exp(-u))**2\n",
    "x"
   ]
  },
  {
   "cell_type": "code",
   "execution_count": 12,
   "metadata": {},
   "outputs": [
    {
     "data": {
      "text/plain": [
       "array([0.10284809])"
      ]
     },
     "execution_count": 12,
     "metadata": {},
     "output_type": "execute_result"
    }
   ],
   "source": [
    "avg_e_out = 0\n",
    "e_out = 0\n",
    "for i in range(100):\n",
    "    pts = point_generator(10000)\n",
    "    x = logistic_regression(100)\n",
    "    classified_pts = classifier(pts, x[1])\n",
    "    w_t = x[2].T\n",
    "    for i in range(len(classified_pts)):\n",
    "        avg_e_out += np.log(1 + np.exp(-1 * classified_pts[i][3] * np.dot(pts[i], w_t)))\n",
    "avg_e_out / 1000000"
   ]
  },
  {
   "cell_type": "code",
   "execution_count": 13,
   "metadata": {},
   "outputs": [
    {
     "data": {
      "text/plain": [
       "342.83"
      ]
     },
     "execution_count": 13,
     "metadata": {},
     "output_type": "execute_result"
    }
   ],
   "source": [
    "avg_epochs = 0\n",
    "for i in range(100):\n",
    "    x = logistic_regression(100)\n",
    "    avg_epochs += x[0]\n",
    "avg_epochs / 100"
   ]
  },
  {
   "cell_type": "code",
   "execution_count": null,
   "metadata": {},
   "outputs": [],
   "source": []
  }
 ],
 "metadata": {
  "kernelspec": {
   "display_name": "Python 3",
   "language": "python",
   "name": "python3"
  },
  "language_info": {
   "codemirror_mode": {
    "name": "ipython",
    "version": 3
   },
   "file_extension": ".py",
   "mimetype": "text/x-python",
   "name": "python",
   "nbconvert_exporter": "python",
   "pygments_lexer": "ipython3",
   "version": "3.6.5"
  }
 },
 "nbformat": 4,
 "nbformat_minor": 2
}
