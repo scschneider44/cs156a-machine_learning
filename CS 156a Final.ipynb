{
 "cells": [
  {
   "cell_type": "code",
   "execution_count": 27,
   "metadata": {},
   "outputs": [],
   "source": [
    "import sklearn.svm as svm\n",
    "import numpy as np\n",
    "from sklearn.model_selection import KFold\n",
    "import random as rand\n",
    "import matplotlib.pyplot as plt"
   ]
  },
  {
   "cell_type": "code",
   "execution_count": 7,
   "metadata": {},
   "outputs": [],
   "source": [
    "train = np.loadtxt(fname = \"C:\\\\Users\\\\Spencer\\\\Downloads\\\\features.train.final.txt\")\n",
    "test = np.loadtxt(fname = \"C:\\\\Users\\\\Spencer\\\\Downloads\\\\features.test.final.txt\")"
   ]
  },
  {
   "cell_type": "code",
   "execution_count": 8,
   "metadata": {},
   "outputs": [],
   "source": [
    "def points_w_bias(pts):\n",
    "    points = []\n",
    "    for i in range(len(pts)):\n",
    "        x_coord = pts[i][0]\n",
    "        y_coord = pts[i][1]\n",
    "        point = (1, x_coord, y_coord)\n",
    "        points.append(point)\n",
    "    return points"
   ]
  },
  {
   "cell_type": "code",
   "execution_count": 9,
   "metadata": {},
   "outputs": [],
   "source": [
    "def points(num):\n",
    "    points = []\n",
    "    for i in range(num):\n",
    "        x_coord = rand.uniform(-1, 1)\n",
    "        y_coord = rand.uniform(-1, 1)\n",
    "        point = (x_coord, y_coord)\n",
    "        points.append(point)\n",
    "    return points"
   ]
  },
  {
   "cell_type": "code",
   "execution_count": 10,
   "metadata": {},
   "outputs": [],
   "source": [
    "def point_generator(num):\n",
    "    for i in range(num):\n",
    "        x_coord = rand.uniform(-1, 1)\n",
    "        y_coord = rand.uniform(-1, 1)\n",
    "        point = (x_coord, y_coord)\n",
    "    return point"
   ]
  },
  {
   "cell_type": "code",
   "execution_count": 11,
   "metadata": {},
   "outputs": [],
   "source": [
    "def one_verses_all(num):\n",
    "    y = []\n",
    "    X = []\n",
    "    for i in range(len(train)):\n",
    "        if train[i][0] == num:\n",
    "            y.append(1)\n",
    "        else:\n",
    "            y.append(-1)\n",
    "    for j in range(len(train)):\n",
    "        X.append([train[j][1], train[j][2]])\n",
    "    return(X, y)"
   ]
  },
  {
   "cell_type": "code",
   "execution_count": 12,
   "metadata": {},
   "outputs": [],
   "source": [
    "def one_verses_one_train(num1, num2):\n",
    "    y = []\n",
    "    X = []\n",
    "    for i in range(len(train)):\n",
    "        if train[i][0] == num1:\n",
    "            y.append(1)\n",
    "        if train[i][0] == num2:\n",
    "            y.append(-1)\n",
    "    for j in range(len(train)):\n",
    "        if train[j][0] == num1 or train[j][0] == num2:\n",
    "            X.append([train[j][1], train[j][2]])\n",
    "    return(X, y)"
   ]
  },
  {
   "cell_type": "code",
   "execution_count": 13,
   "metadata": {},
   "outputs": [],
   "source": [
    "def one_verses_one_test(num1, num2):\n",
    "    y = []\n",
    "    X = []\n",
    "    for i in range(len(test)):\n",
    "        if test[i][0] == num1:\n",
    "            y.append(1)\n",
    "        if test[i][0] == num2:\n",
    "            y.append(-1)\n",
    "    for j in range(len(test)):\n",
    "        if test[j][0] == num1 or test[j][0] == num2:\n",
    "            X.append([test[j][1], test[j][2]])\n",
    "    return(X, y)"
   ]
  },
  {
   "cell_type": "code",
   "execution_count": 14,
   "metadata": {},
   "outputs": [],
   "source": [
    "def one_verses_all_test(num):\n",
    "    y = []\n",
    "    X = []\n",
    "    for i in range(len(test)):\n",
    "        if test[i][0] == num:\n",
    "            y.append(1)\n",
    "        else:\n",
    "            y.append(-1)\n",
    "    for j in range(len(test)):\n",
    "        X.append([test[j][1], test[j][2]])\n",
    "    return(X, y)"
   ]
  },
  {
   "cell_type": "code",
   "execution_count": 15,
   "metadata": {},
   "outputs": [],
   "source": [
    "def regression_with_decay(training_pts, labels, k, transform):\n",
    "    missclassified = 0\n",
    "    if transform == True:\n",
    "        training_pts = np.asarray(nonlinear_transform(training_pts))\n",
    "    else:\n",
    "        training_pts = np.asarray(training_pts)\n",
    "    pseudo_inverse = np.linalg.pinv(training_pts)\n",
    "    y = np.asarray(labels)\n",
    "    col = training_pts.shape[1]\n",
    "    inner_term = np.linalg.inv((np.matmul(training_pts.T, training_pts) + 10**k * np.identity(col)))\n",
    "    x = np.matmul(training_pts.T, training_pts)\n",
    "    intermed = np.matmul(inner_term, training_pts.T)\n",
    "    w = np.matmul(intermed, y)\n",
    "    for i in range(len(training_pts)):\n",
    "        if np.sign(w.dot(training_pts[i])) != labels[i]:\n",
    "            missclassified += 1\n",
    "    return (w, missclassified / len(training_pts)) "
   ]
  },
  {
   "cell_type": "code",
   "execution_count": 16,
   "metadata": {},
   "outputs": [],
   "source": [
    "def nonlinear_transform(pts):\n",
    "    transformation = []\n",
    "    for pt in pts:\n",
    "        x1 = pt[0]\n",
    "        x2 = pt[1]\n",
    "        transformation.append([1, x1, x2, x1 * x2, x1 ** 2, x2 ** 2])\n",
    "    return transformation"
   ]
  },
  {
   "cell_type": "code",
   "execution_count": 17,
   "metadata": {},
   "outputs": [],
   "source": [
    "def error(w, pts, labels, transform):\n",
    "    e_out = 0\n",
    "    missclassified = 0\n",
    "    if transform == True:\n",
    "        transformed = np.asarray(nonlinear_transform(pts))\n",
    "    else:\n",
    "        transformed = np.asarray(pts)\n",
    "    for i in range(len(pts)):\n",
    "        if np.sign(w.dot(transformed[i])) != labels[i]:\n",
    "            missclassified += 1\n",
    "    e_out = missclassified / len(pts)\n",
    "    return e_out"
   ]
  },
  {
   "cell_type": "markdown",
   "metadata": {},
   "source": [
    "Problem 7"
   ]
  },
  {
   "cell_type": "code",
   "execution_count": 76,
   "metadata": {},
   "outputs": [
    {
     "data": {
      "text/plain": [
       "[(0.22946097928953504, 0),\n",
       " (0.137704018653134, 1),\n",
       " (0.10026059525442327, 2),\n",
       " (0.09024825126868742, 3),\n",
       " (0.08942531888629818, 4),\n",
       " (0.07625840076807022, 5),\n",
       " (0.09107118365107666, 6),\n",
       " (0.08846523110684405, 7),\n",
       " (0.07433822520916199, 8),\n",
       " (0.08832807570977919, 9)]"
      ]
     },
     "execution_count": 76,
     "metadata": {},
     "output_type": "execute_result"
    }
   ],
   "source": [
    "e_in = []\n",
    "for i in range(10):\n",
    "    data = one_verses_all(i)\n",
    "    lin_reg = regression_with_decay(data[0], data[1], 0, False)\n",
    "    e_in_sample = lin_reg[1]\n",
    "    e_in.append((e_in_sample, i))\n",
    "e_in"
   ]
  },
  {
   "cell_type": "code",
   "execution_count": 77,
   "metadata": {},
   "outputs": [],
   "source": [
    "e_out = []\n",
    "for i in range(10):\n",
    "    data = one_verses_all(i)\n",
    "    test_data = one_verses_all_test(i)\n",
    "    lin_reg = regression_with_decay(data[0], data[1], 0, False)\n",
    "    e_out_sample = error(lin_reg[0], test_data[0], test_data[1], False)\n",
    "    e_out.append((e_out_sample, i))"
   ]
  },
  {
   "cell_type": "code",
   "execution_count": 78,
   "metadata": {},
   "outputs": [],
   "source": [
    "e_in_trans = []\n",
    "for i in range(10):\n",
    "    data = one_verses_all(i)\n",
    "    lin_reg = regression_with_decay(data[0], data[1], 0, True)\n",
    "    e_in_sample = lin_reg[1]\n",
    "    e_in_trans.append((e_in_sample, i))"
   ]
  },
  {
   "cell_type": "markdown",
   "metadata": {},
   "source": [
    "Problem 8"
   ]
  },
  {
   "cell_type": "code",
   "execution_count": 79,
   "metadata": {},
   "outputs": [
    {
     "data": {
      "text/plain": [
       "[(0.10662680617837568, 0),\n",
       " (0.02192326856003986, 1),\n",
       " (0.09865470852017937, 2),\n",
       " (0.08271051320378675, 3),\n",
       " (0.09965122072745392, 4),\n",
       " (0.07922272047832586, 5),\n",
       " (0.08470353761833582, 6),\n",
       " (0.07324364723467862, 7),\n",
       " (0.08271051320378675, 8),\n",
       " (0.08819133034379671, 9)]"
      ]
     },
     "execution_count": 79,
     "metadata": {},
     "output_type": "execute_result"
    }
   ],
   "source": [
    "e_out_trans = []\n",
    "for i in range(10):\n",
    "    data = one_verses_all(i)\n",
    "    test_data = one_verses_all_test(i)\n",
    "    lin_reg = regression_with_decay(data[0], data[1], 0, True)\n",
    "    e_out_sample = error(lin_reg[0], test_data[0], test_data[1], True)\n",
    "    e_out_trans.append((e_out_sample, i))\n",
    "e_out_trans"
   ]
  },
  {
   "cell_type": "markdown",
   "metadata": {},
   "source": [
    "Problem 9"
   ]
  },
  {
   "cell_type": "code",
   "execution_count": 80,
   "metadata": {},
   "outputs": [
    {
     "data": {
      "text/plain": [
       "(((0.22946097928953504, 0), (0.22770303936223218, 0)),\n",
       " ((0.10231792621039638, 0), (0.10662680617837568, 0)),\n",
       " ((0.08832807570977919, 9), (0.08819133034379671, 9)),\n",
       " ((0.08832807570977919, 9), (0.08819133034379671, 9)),\n",
       " ((0.07972097658196313, 5), (0.07922272047832586, 5)))"
      ]
     },
     "execution_count": 80,
     "metadata": {},
     "output_type": "execute_result"
    }
   ],
   "source": [
    "fit_0 = (e_in[0], e_out[0])\n",
    "fit_9 = (e_in[9], e_out[9])\n",
    "fit_0_t = (e_in_trans[0], e_out_trans[0])\n",
    "fit_9_t = (e_in_trans[9], e_out_trans[9])\n",
    "fit_5 = (e_out[5], e_out_trans[5])\n",
    "(fit_0, fit_0_t, fit_9, fit_9_t, fit_5)"
   ]
  },
  {
   "cell_type": "markdown",
   "metadata": {},
   "source": [
    "Problem 10"
   ]
  },
  {
   "cell_type": "code",
   "execution_count": 19,
   "metadata": {},
   "outputs": [
    {
     "data": {
      "text/plain": [
       "([(0.005124919923126201, 0), (0.004484304932735426, 1)],\n",
       " [(0.025943396226415096, 0), (0.02830188679245283, 1)])"
      ]
     },
     "execution_count": 19,
     "metadata": {},
     "output_type": "execute_result"
    }
   ],
   "source": [
    "reg = [0, -2]\n",
    "e_in_1v5 = []\n",
    "e_out_1v5 = []\n",
    "for i in range(2):\n",
    "    data = one_verses_one_train(1, 5)\n",
    "    test_data = one_verses_one_test(1, 5)\n",
    "    lin_reg = regression_with_decay(data[0], data[1], reg[i], True)\n",
    "    e_in_sample = lin_reg[1]\n",
    "    e_in_1v5.append((e_in_sample, i))\n",
    "    e_out_sample = error(lin_reg[0], test_data[0], test_data[1], True)\n",
    "    e_out_1v5.append((e_out_sample, i))\n",
    "(e_in_1v5, e_out_1v5)"
   ]
  },
  {
   "cell_type": "code",
   "execution_count": 48,
   "metadata": {},
   "outputs": [],
   "source": [
    "def classifier(points):\n",
    "    labels = []\n",
    "    label = 0\n",
    "    for i in range(len(points)):\n",
    "        label = np.sign(points[i][1] - points[i][0] + np.sin(np.pi * points[i][0]))\n",
    "        labels.append(label)\n",
    "    return labels"
   ]
  },
  {
   "cell_type": "code",
   "execution_count": 49,
   "metadata": {},
   "outputs": [],
   "source": [
    "def kmeans(pts, k):\n",
    "    empty = 1\n",
    "    while empty == 1:\n",
    "        empty = 0\n",
    "        centers = []\n",
    "        for i in range(k):\n",
    "            centers.append(point_generator(1))\n",
    "        old_centers = []\n",
    "        while centers != old_centers:\n",
    "            old_centers = centers\n",
    "            clusters = [[] for i in range(k)]\n",
    "            for i in range(len(pts)):\n",
    "                a = np.asarray(pts[i])\n",
    "                min_dist = 100\n",
    "                cluster = k + 1\n",
    "                for j in range(len(centers)):\n",
    "                    b = np.asarray(centers[j])\n",
    "                    dist = np.linalg.norm(a - b)\n",
    "                    if dist < min_dist:\n",
    "                        min_dist = dist\n",
    "                        cluster = j\n",
    "                clusters[cluster].append(pts[i])\n",
    "            for e in range(len(clusters)):\n",
    "                if len(clusters[e]) == 0:\n",
    "                    empty = 1\n",
    "            if empty == 1:\n",
    "                break\n",
    "                \n",
    "            centers = []\n",
    "            for l in range(len(clusters)):\n",
    "                avg_x = 0\n",
    "                avg_y = 0\n",
    "                for m in range(len(clusters[l])):\n",
    "                    avg_x += clusters[l][m][0]\n",
    "                    avg_y += clusters[l][m][1]\n",
    "                centers.append((avg_x / len(clusters[l]), avg_y / len(clusters[l])))\n",
    "    return (centers)      "
   ]
  },
  {
   "cell_type": "code",
   "execution_count": 50,
   "metadata": {},
   "outputs": [],
   "source": [
    "def get_matrix(pts, centers, gamma):\n",
    "    matrix = [[] for i in range(len(pts))]\n",
    "    for i in range(len(pts)):\n",
    "        matrix[i].append(1)\n",
    "        for j in range(len(centers)):\n",
    "            a = np.asarray(pts[i])\n",
    "            b = np.asarray(centers[j])\n",
    "            dist = np.linalg.norm(a - b)\n",
    "            matrix[i].append(np.exp(-gamma * dist**2))\n",
    "    return(matrix)"
   ]
  },
  {
   "cell_type": "code",
   "execution_count": 51,
   "metadata": {},
   "outputs": [],
   "source": [
    "def normal_rbf(pts, labels, k, gamma):\n",
    "    misclassified = 0\n",
    "    points = points_w_bias(pts)\n",
    "    centers = kmeans(pts, k)\n",
    "    matrix = get_matrix(pts, centers, gamma)\n",
    "    pseudo_inverse = np.linalg.pinv(matrix)\n",
    "    y = np.asarray(labels)\n",
    "    w = np.matmul(pseudo_inverse, y)\n",
    "    guess = np.matmul(matrix, w)\n",
    "    for i in range(len(guess)):\n",
    "        if np.sign(guess[i]) != y[i]:\n",
    "            misclassified += 1\n",
    "    return (w, misclassified / len(pts), centers) "
   ]
  },
  {
   "cell_type": "markdown",
   "metadata": {},
   "source": [
    "Problem 13"
   ]
  },
  {
   "cell_type": "code",
   "execution_count": 401,
   "metadata": {},
   "outputs": [],
   "source": [
    "non = 0\n",
    "for i in range(10000):\n",
    "    pts = points(100)\n",
    "    labels = classifier(pts)\n",
    "    clf = svm.SVC(C = 10**8, kernel = 'rbf', coef0 = 1, gamma = 1.5)\n",
    "    clf.fit(pts, labels)\n",
    "    score = abs(clf.score(pts, labels) - 1)\n",
    "    if score != 0.0:\n",
    "        non += 1"
   ]
  },
  {
   "cell_type": "code",
   "execution_count": 402,
   "metadata": {},
   "outputs": [
    {
     "data": {
      "text/plain": [
       "0"
      ]
     },
     "execution_count": 402,
     "metadata": {},
     "output_type": "execute_result"
    }
   ],
   "source": [
    "non"
   ]
  },
  {
   "cell_type": "markdown",
   "metadata": {},
   "source": [
    "Problem 14"
   ]
  },
  {
   "cell_type": "code",
   "execution_count": 54,
   "metadata": {},
   "outputs": [
    {
     "data": {
      "text/plain": [
       "0.96"
      ]
     },
     "execution_count": 54,
     "metadata": {},
     "output_type": "execute_result"
    }
   ],
   "source": [
    "wins = 0\n",
    "iters = 0\n",
    "for i in range(100):\n",
    "    no_count = 0\n",
    "    iters += 1\n",
    "    misclassified = 0\n",
    "    pts = points(100)\n",
    "    labels = classifier(pts)\n",
    "    normal = normal_rbf(pts, labels, 9, 1.5)\n",
    "    clf = svm.SVC(C = 10**8, kernel = 'rbf', coef0 = 1, gamma = 1.5)\n",
    "    clf.fit(pts, labels)\n",
    "    if abs(clf.score(pts, labels) - 1) != 0:\n",
    "        no_count = 1\n",
    "        iters -= 1\n",
    "    test_pts = points(100)\n",
    "    test_labels = classifier(test_pts)\n",
    "    score = abs(clf.score(test_pts, test_labels) - 1)\n",
    "    matrix = get_matrix(test_pts, normal[2], 1.5)\n",
    "    guess = np.matmul(matrix, normal[0])\n",
    "    for i in range(len(guess)):\n",
    "        if np.sign(guess[i]) != test_labels[i]:\n",
    "            misclassified += 1\n",
    "    error = misclassified / len(test_pts)\n",
    "    if score < error and no_count == 0:\n",
    "        wins += 1\n",
    "wins / iters"
   ]
  },
  {
   "cell_type": "markdown",
   "metadata": {},
   "source": [
    "Problem 15"
   ]
  },
  {
   "cell_type": "code",
   "execution_count": 435,
   "metadata": {},
   "outputs": [
    {
     "data": {
      "text/plain": [
       "0.72"
      ]
     },
     "execution_count": 435,
     "metadata": {},
     "output_type": "execute_result"
    }
   ],
   "source": [
    "wins = 0\n",
    "iters = 0\n",
    "for i in range(100):\n",
    "    no_count = 0\n",
    "    iters += 1\n",
    "    misclassified = 0\n",
    "    pts = points(100)\n",
    "    labels = classifier(pts)\n",
    "    normal = normal_rbf(pts, labels, 12, 1.5)\n",
    "    clf = svm.SVC(C = 10**8, kernel = 'rbf', coef0 = 1, gamma = 1.5)\n",
    "    clf.fit(pts, labels)\n",
    "    if abs(clf.score(pts, labels) - 1) != 0:\n",
    "        no_count = 1\n",
    "        iters -= 1\n",
    "    test_pts = points(100)\n",
    "    test_labels = classifier(test_pts)\n",
    "    score = abs(clf.score(test_pts, test_labels) - 1)\n",
    "    matrix = get_matrix(test_pts, normal[2], 1.5)\n",
    "    guess = np.matmul(matrix, normal[0])\n",
    "    for i in range(len(guess)):\n",
    "        if np.sign(guess[i]) != test_labels[i]:\n",
    "            misclassified += 1\n",
    "    error = misclassified / len(test_pts)\n",
    "    if score < error and no_count == 0:\n",
    "        wins += 1\n",
    "wins / iters"
   ]
  },
  {
   "cell_type": "markdown",
   "metadata": {},
   "source": [
    "Problem 16"
   ]
  },
  {
   "cell_type": "code",
   "execution_count": 64,
   "metadata": {},
   "outputs": [
    {
     "data": {
      "text/plain": [
       "(6, 81, 1, 6, 0)"
      ]
     },
     "execution_count": 64,
     "metadata": {},
     "output_type": "execute_result"
    }
   ],
   "source": [
    "both_up = 0\n",
    "both_down = 0\n",
    "in_up_out_down = 0\n",
    "out_up_in_down = 0\n",
    "same = 0\n",
    "for i in range(100):\n",
    "    misclassified9 = 0\n",
    "    misclassified12 = 0\n",
    "    pts = points(100)\n",
    "    labels = classifier(pts)\n",
    "    normal9 = normal_rbf(pts, labels, 9, 1.5)\n",
    "    e_in9 = normal9[1]\n",
    "    normal12 = normal_rbf(pts, labels, 12, 1.5)\n",
    "    e_in12 = normal12[1]\n",
    "    test_pts = points(100)\n",
    "    test_labels = classifier(test_pts)\n",
    "    matrix12 = get_matrix(test_pts, normal12[2], 1.5)\n",
    "    guess12 = np.matmul(matrix12, normal12[0])\n",
    "    for i in range(len(guess)):\n",
    "        if np.sign(guess12[i]) != test_labels[i]:\n",
    "            misclassified12 += 1\n",
    "    error12 = misclassified12 / len(test_pts)\n",
    "    matrix9 = get_matrix(test_pts, normal9[2], 1.5)\n",
    "    guess9 = np.matmul(matrix9, normal9[0])\n",
    "    for i in range(len(guess)):\n",
    "        if np.sign(guess9[i]) != test_labels[i]:\n",
    "            misclassified9 += 1\n",
    "    error9 = misclassified9 / len(test_pts)\n",
    "    if error9 < error12 and e_in9 < e_in12:\n",
    "        both_up += 1\n",
    "    elif error9 > error12 and e_in9 > e_in12:\n",
    "        both_down += 1\n",
    "    elif error9 > error12 and e_in9 < e_in12:\n",
    "        in_up_out_down += 1\n",
    "    elif error9 < error12 and e_in9 > e_in12:\n",
    "        out_up_in_down += 1\n",
    "    elif error9 == error12 and e_in9 == e_in12:\n",
    "        same += 1\n",
    "(both_up, both_down, in_up_out_down, out_up_in_down, same) "
   ]
  },
  {
   "cell_type": "markdown",
   "metadata": {},
   "source": [
    "Problem 17"
   ]
  },
  {
   "cell_type": "code",
   "execution_count": 60,
   "metadata": {},
   "outputs": [
    {
     "data": {
      "text/plain": [
       "(47, 21, 3, 12, 17)"
      ]
     },
     "execution_count": 60,
     "metadata": {},
     "output_type": "execute_result"
    }
   ],
   "source": [
    "both_up = 0\n",
    "both_down = 0\n",
    "in_up_out_down = 0\n",
    "out_up_in_down = 0\n",
    "same = 0\n",
    "for i in range(100):\n",
    "    misclassified15 = 0\n",
    "    misclassified2 = 0\n",
    "    pts = points(100)\n",
    "    labels = classifier(pts)\n",
    "    normal15 = normal_rbf(pts, labels, 9, 1.5)\n",
    "    e_in15 = normal15[1]\n",
    "    normal2 = normal_rbf(pts, labels, 9, 2)\n",
    "    e_in2 = normal2[1]\n",
    "    test_pts = points(100)\n",
    "    test_labels = classifier(test_pts)\n",
    "    matrix2 = get_matrix(test_pts, normal2[2], 2)\n",
    "    guess2 = np.matmul(matrix2, normal2[0])\n",
    "    for i in range(len(guess)):\n",
    "        if np.sign(guess2[i]) != test_labels[i]:\n",
    "            misclassified2 += 1\n",
    "    error2 = misclassified2 / len(test_pts)\n",
    "    matrix15 = get_matrix(test_pts, normal15[2], 1.5)\n",
    "    guess15 = np.matmul(matrix15, normal15[0])\n",
    "    for i in range(len(guess)):\n",
    "        if np.sign(guess15[i]) != test_labels[i]:\n",
    "            misclassified15 += 1\n",
    "    error15 = misclassified15 / len(test_pts)\n",
    "    if error15 < error2 and e_in15 < e_in2:\n",
    "        both_up += 1\n",
    "    elif error15 > error2 and e_in15 > e_in2:\n",
    "        both_down += 1\n",
    "    elif error15 > error2 and e_in15 < e_in2:\n",
    "        in_up_out_down += 1\n",
    "    elif error15 < error2 and e_in15 > e_in2:\n",
    "        out_up_in_down += 1\n",
    "    else:\n",
    "        same += 1\n",
    "(both_up, both_down, in_up_out_down, out_up_in_down, same) "
   ]
  },
  {
   "cell_type": "markdown",
   "metadata": {},
   "source": [
    "Problem 18 "
   ]
  },
  {
   "cell_type": "code",
   "execution_count": 450,
   "metadata": {},
   "outputs": [
    {
     "data": {
      "text/plain": [
       "0.0"
      ]
     },
     "execution_count": 450,
     "metadata": {},
     "output_type": "execute_result"
    }
   ],
   "source": [
    "e_in0 = 0\n",
    "for i in range(100):\n",
    "    pts = points(100)\n",
    "    labels = classifier(pts)\n",
    "    normal = normal_rbf(pts, labels, 9, 1.5)\n",
    "    if normal[1] == 0:\n",
    "        e_in0 += 1\n",
    "e_in0 / 1000"
   ]
  },
  {
   "cell_type": "code",
   "execution_count": 37,
   "metadata": {},
   "outputs": [],
   "source": [
    "points_q11 = [(1, 0), (0, 1), (0, -1), (-1, 0), (0, 2), (0, -2), (-2, 0)]\n",
    "y_q11 = [-1, -1, -1, 1, 1, 1, 1]\n",
    "weights = [(-1, 1), (1, -1), (1, 0), (0,1)]"
   ]
  },
  {
   "cell_type": "markdown",
   "metadata": {},
   "source": [
    "Problem 12"
   ]
  },
  {
   "cell_type": "code",
   "execution_count": 63,
   "metadata": {},
   "outputs": [
    {
     "data": {
      "text/plain": [
       "(array([[0.59647182, 0.81065085, 0.8887034 , 0.20566488, 0.31275439]]), 5)"
      ]
     },
     "execution_count": 63,
     "metadata": {},
     "output_type": "execute_result"
    }
   ],
   "source": [
    "clf = svm.SVC(C = 10**6, kernel = 'poly', degree = 2, coef0 = 1, gamma = 1)\n",
    "clf.fit(points_q11, y_q11)\n",
    "(abs(clf.dual_coef_), len(clf.support_vectors_))"
   ]
  },
  {
   "cell_type": "code",
   "execution_count": 24,
   "metadata": {},
   "outputs": [],
   "source": [
    "def q11_transform(pts):\n",
    "    trans = []\n",
    "    for pt in pts:\n",
    "        z1 = pt[1]**2 - 2 * pt[0] - 1\n",
    "        z2 = pt[0]**2 - 2 * pt[1] + 1\n",
    "        trans.append((z1,z2))\n",
    "    return trans"
   ]
  },
  {
   "cell_type": "code",
   "execution_count": 35,
   "metadata": {},
   "outputs": [
    {
     "data": {
      "image/png": "[encoded data removed]",
      "text/plain": [
       "<Figure size 432x288 with 1 Axes>"
      ]
     },
     "metadata": {},
     "output_type": "display_data"
    }
   ],
   "source": [
    "point = q11_transform(points_q11)\n",
    "x = []\n",
    "y = []\n",
    "for pt in point:\n",
    "    x.append(pt[0])\n",
    "    y.append(pt[1])\n",
    "plt.scatter(x[:3],y[:3], color = 'red')\n",
    "plt.scatter(x[3:],y[3:], color = 'blue')\n",
    "plt.show()"
   ]
  },
  {
   "cell_type": "markdown",
   "metadata": {},
   "source": [
    "Problem 11"
   ]
  },
  {
   "cell_type": "code",
   "execution_count": 40,
   "metadata": {},
   "outputs": [
    {
     "data": {
      "text/plain": [
       "[-8.5, 7.5, 12.5, 4.5]"
      ]
     },
     "execution_count": 40,
     "metadata": {},
     "output_type": "execute_result"
    }
   ],
   "source": [
    "point = q11_transform(points_q11)\n",
    "total_margin = []\n",
    "for weight in weights:\n",
    "    margin = 0\n",
    "    for i in range(len(point)):\n",
    "        margin += (weight[0] * point[i][0] + weight[1] * point[i][1] - 0.5) * y_q11[i]\n",
    "    total_margin.append(margin)\n",
    "total_margin"
   ]
  },
  {
   "cell_type": "code",
   "execution_count": null,
   "metadata": {},
   "outputs": [],
   "source": []
  },
  {
   "cell_type": "code",
   "execution_count": null,
   "metadata": {},
   "outputs": [],
   "source": []
  }
 ],
 "metadata": {
  "kernelspec": {
   "display_name": "Python 3",
   "language": "python",
   "name": "python3"
  },
  "language_info": {
   "codemirror_mode": {
    "name": "ipython",
    "version": 3
   },
   "file_extension": ".py",
   "mimetype": "text/x-python",
   "name": "python",
   "nbconvert_exporter": "python",
   "pygments_lexer": "ipython3",
   "version": "3.6.5"
  }
 },
 "nbformat": 4,
 "nbformat_minor": 2
}
