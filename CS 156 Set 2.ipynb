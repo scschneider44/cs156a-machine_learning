{
 "cells": [
  {
   "cell_type": "code",
   "execution_count": 370,
   "metadata": {},
   "outputs": [],
   "source": [
    "import random as rand\n",
    "import numpy as np"
   ]
  },
  {
   "cell_type": "code",
   "execution_count": 4,
   "metadata": {},
   "outputs": [],
   "source": [
    "def coin_flipper(flips):\n",
    "    num_heads = 0\n",
    "    for i in range(flips):\n",
    "        if rand.randint(0, 1) == 1:\n",
    "            num_heads += 1\n",
    "    return num_heads\n",
    "\n",
    "def flip_multiple_coins(coins, flips):\n",
    "    result = []\n",
    "    for i in range(coins):\n",
    "        num_heads = coin_flipper(flips)\n",
    "        result.append(num_heads)\n",
    "    return result\n",
    "\n",
    "def find_desired_coins(coins, flips):\n",
    "    outcome = flip_multiple_coins(coins, flips)\n",
    "    least = outcome[0]\n",
    "    for i in range(len(outcome)):\n",
    "        if outcome[i] < least:\n",
    "            least = outcome[i]\n",
    "    return(outcome[0], rand.choice(outcome), least)"
   ]
  },
  {
   "cell_type": "code",
   "execution_count": 11,
   "metadata": {},
   "outputs": [
    {
     "data": {
      "text/plain": [
       "(0.500445, 0.500238, 0.037549)"
      ]
     },
     "execution_count": 11,
     "metadata": {},
     "output_type": "execute_result"
    }
   ],
   "source": [
    "v1 = 0\n",
    "vrand = 0\n",
    "vmin = 0\n",
    "for i in range(100000):\n",
    "    final = find_desired_coins(1000, 10)\n",
    "    v1 += final[0]\n",
    "    vrand += final[1]\n",
    "    vmin += final[2]\n",
    "(v1 / 1000000, vrand / 1000000, vmin / 1000000)"
   ]
  },
  {
   "cell_type": "code",
   "execution_count": 387,
   "metadata": {},
   "outputs": [],
   "source": [
    "def point_generator(num):\n",
    "    points = []\n",
    "    for i in range(num):\n",
    "        x_coord = rand.uniform(-1, 1)\n",
    "        y_coord = rand.uniform(-1, 1)\n",
    "        point = [1, x_coord, y_coord]\n",
    "        points.append(point)\n",
    "    return points\n",
    "\n",
    "def line_maker():\n",
    "    point1 = (rand.uniform(-1, 1), rand.uniform(-1, 1))\n",
    "    point2 = (rand.uniform(-1, 1), rand.uniform(-1, 1))\n",
    "    m = (point2[1] - point1[1]) / (point2[0] - point1[0])\n",
    "    intercept = -m * point1[0] + point1[1]\n",
    "    return (m, intercept)\n",
    "\n",
    "def classifier(points, line):\n",
    "    label = 0\n",
    "    training_set = []\n",
    "    for i in range(len(points)):\n",
    "        if points[i][2] > points[i][1] * line[0] + line[1]:\n",
    "            label = 1\n",
    "        else:\n",
    "            label = -1\n",
    "        training_set.append((1, points[i][1], points[i][2], label))\n",
    "    return training_set\n",
    "\n",
    "def linear_regression(training_pts):\n",
    "    y = []\n",
    "    missclassified = 0\n",
    "    pts = np.asarray(point_generator(training_pts))\n",
    "    line = line_maker()\n",
    "    labeled_pts = classifier(pts, line)\n",
    "    pseudo_inverse = np.linalg.pinv(pts)\n",
    "    for i in range(training_pts):\n",
    "        y.append(labeled_pts[i][3])\n",
    "    y = np.asarray(y)\n",
    "    w = np.matmul(pseudo_inverse, y)\n",
    "    for i in range(len(pts)):\n",
    "        if np.sign(w.dot(pts[i])) != labeled_pts[i][3]:\n",
    "            missclassified += 1\n",
    "    return (w, line, missclassified / len(pts)) \n",
    "\n",
    "def linear_regression_nonlinear_classifier(training_pts):\n",
    "    y = []\n",
    "    missclassified = 0\n",
    "    pts = point_generator(training_pts)\n",
    "    labeled_pts = nonlinear_classifier(pts)\n",
    "    pseudo_inverse = np.linalg.pinv(pts)\n",
    "    for i in range(training_pts):\n",
    "        y.append(labeled_pts[i][3])\n",
    "    y = np.asarray(y)\n",
    "    w = np.matmul(pseudo_inverse, y)\n",
    "    for i in range(len(pts)):\n",
    "        if np.sign(w.dot(pts[i])) != labeled_pts[i][3]:\n",
    "            missclassified += 1\n",
    "    return (w, missclassified / len(pts))   \n",
    "\n",
    "def nonlinear_transformation_regression(training_pts):\n",
    "    y = []\n",
    "    missclassified = 0\n",
    "    pts = point_generator(training_pts)\n",
    "    transformed_pts = np.asarray(nonlinear_transformation(pts))\n",
    "    labeled_pts = nonlinear_classifier(pts)\n",
    "    pseudo_inverse = np.linalg.pinv(transformed_pts)\n",
    "    for i in range(training_pts):\n",
    "        y.append(labeled_pts[i][3])\n",
    "    y = np.asarray(y)\n",
    "    w = np.matmul(pseudo_inverse, y)\n",
    "    for i in range(len(pts)):\n",
    "        if np.sign(w.dot(transformed_pts[i])) != labeled_pts[i][3]:\n",
    "            missclassified += 1\n",
    "    return (w, missclassified / len(pts)) \n",
    "\n",
    "def perceptron(num, line, w):\n",
    "    points = point_generator(num)\n",
    "    target_function = line\n",
    "    labeled_set = classifier(points, target_function)\n",
    "    weight_vector = w\n",
    "    misclassified = labeled_set\n",
    "    iterations = 0\n",
    "    while len(misclassified) > 0:\n",
    "        iterations += 1\n",
    "        mpoint = rand.choice(misclassified)\n",
    "        label = mpoint[3]\n",
    "        for i in range(3):\n",
    "            weight_vector[i] += mpoint[i] * label\n",
    "        misclassified = []\n",
    "        for i in range(len(labeled_set)):\n",
    "            if np.sign(weight_vector[0] * labeled_set[i][0] +\n",
    "                    weight_vector[1] * labeled_set[i][1] +\n",
    "                    weight_vector[2] * labeled_set[i][2]) != labeled_set[i][3]:\n",
    "                misclassified.append(labeled_set[i])\n",
    "    return (weight_vector, iterations, target_function)"
   ]
  },
  {
   "cell_type": "code",
   "execution_count": 377,
   "metadata": {},
   "outputs": [
    {
     "data": {
      "text/plain": [
       "0.0384800000000001"
      ]
     },
     "execution_count": 377,
     "metadata": {},
     "output_type": "execute_result"
    }
   ],
   "source": [
    "lines = []\n",
    "hypotheses = []\n",
    "e_in = 0\n",
    "for i in range(1000):\n",
    "    x = linear_regression(100)\n",
    "    hypotheses.append(x[0])\n",
    "    lines.append(x[1])\n",
    "    e_in += x[2]\n",
    "avg_e_in = e_in / 1000\n",
    "avg_e_in"
   ]
  },
  {
   "cell_type": "code",
   "execution_count": 378,
   "metadata": {},
   "outputs": [
    {
     "data": {
      "text/plain": [
       "0.04830400000000006"
      ]
     },
     "execution_count": 378,
     "metadata": {},
     "output_type": "execute_result"
    }
   ],
   "source": [
    "e_out = 0\n",
    "for i in range(1000):\n",
    "    missclassified = 0\n",
    "    pts = point_generator(1000)\n",
    "    labeled_pts = classifier(pts, lines[i])\n",
    "    for j in range(len(pts)):\n",
    "        if np.sign(hypotheses[i].dot(pts[j])) != labeled_pts[j][3]:\n",
    "            missclassified += 1\n",
    "    e_out += (missclassified / 1000)\n",
    "avg_e_out = e_out / 1000\n",
    "avg_e_out"
   ]
  },
  {
   "cell_type": "code",
   "execution_count": 380,
   "metadata": {},
   "outputs": [
    {
     "data": {
      "text/plain": [
       "6.801"
      ]
     },
     "execution_count": 380,
     "metadata": {},
     "output_type": "execute_result"
    }
   ],
   "source": [
    "iters = 0\n",
    "for i in range(1000):\n",
    "    reg = linear_regression(10)\n",
    "    p = perceptron(10, reg[1], reg[0])\n",
    "    iters += p[1]\n",
    "avg_iters = iters / 1000\n",
    "avg_iters"
   ]
  },
  {
   "cell_type": "code",
   "execution_count": 381,
   "metadata": {},
   "outputs": [],
   "source": [
    "def nonlinear_classifier(pts):\n",
    "    for pt in pts:\n",
    "        noise = rand.randint(0, 9)\n",
    "        classification = np.sign(pt[1] ** 2 + pt[2] ** 2 - 0.6)\n",
    "        if noise != 0:\n",
    "            pt.append(classification)\n",
    "        else:\n",
    "            pt.append(classification * -1)\n",
    "    return pts"
   ]
  },
  {
   "cell_type": "code",
   "execution_count": 382,
   "metadata": {},
   "outputs": [],
   "source": [
    "def nonlinear_classifier_no_noise(pts):\n",
    "    for pt in pts:\n",
    "        classification = np.sign(pt[1] ** 2 + pt[2] ** 2 - 0.6)\n",
    "        pt.append(classification)\n",
    "    return pts"
   ]
  },
  {
   "cell_type": "code",
   "execution_count": 388,
   "metadata": {},
   "outputs": [
    {
     "data": {
      "text/plain": [
       "0.0"
      ]
     },
     "execution_count": 388,
     "metadata": {},
     "output_type": "execute_result"
    }
   ],
   "source": [
    "e_in_nonlinear = 0\n",
    "for i in range(1000):\n",
    "    pts = nonlinear_function(1000)\n",
    "    x = linear_regression_nonlinear_classifier(pts)\n",
    "    e_in_nonlinear += x[2]\n",
    "avg_e_in_nonlinear = e_in_nonlinear / 1000\n",
    "avg_e_in_nonlinear"
   ]
  },
  {
   "cell_type": "code",
   "execution_count": 315,
   "metadata": {},
   "outputs": [],
   "source": [
    "def nonlinear_transformation(pts):\n",
    "    transformation = []\n",
    "    for pt in pts:\n",
    "        transformation.append([1, pt[1], pt[2], pt[1] * pt[2], pt[1] ** 2, pt[2] ** 2])\n",
    "    return transformation"
   ]
  },
  {
   "cell_type": "code",
   "execution_count": 384,
   "metadata": {},
   "outputs": [
    {
     "data": {
      "text/plain": [
       "array([-9.93541556e-01,  5.25467331e-04,  1.61547643e-03,  1.29114920e-03,\n",
       "        1.56112284e+00,  1.55748937e+00])"
      ]
     },
     "execution_count": 384,
     "metadata": {},
     "output_type": "execute_result"
    }
   ],
   "source": [
    "w = [0, 0, 0, 0, 0, 0]\n",
    "for i in range(1000):\n",
    "    x = nonlinear_transformation_regression(1000)\n",
    "    for i in range(len(w)):\n",
    "        w[i] += x[0][i]\n",
    "for j in range(len(w)):\n",
    "    w[j] /= 1000\n",
    "w = np.asarray(w)\n",
    "w"
   ]
  },
  {
   "cell_type": "code",
   "execution_count": 385,
   "metadata": {},
   "outputs": [
    {
     "name": "stdout",
     "output_type": "stream",
     "text": [
      "(0.961905, 0.662485, 0.661054, 0.632023, 0.560939)\n"
     ]
    }
   ],
   "source": [
    "adiff = 0\n",
    "bdiff = 0\n",
    "cdiff = 0\n",
    "ddiff = 0\n",
    "ediff = 0\n",
    "for i in range(1000):\n",
    "    x = nonlinear_transformation_regression(1000)\n",
    "    a = np.asarray([-1,  -0.05,  0.08,  0.13,\n",
    "        1.5,  1.5])\n",
    "    b = np.asarray([-1,  -0.05,  0.08,  0.13,\n",
    "        1.5,  15])\n",
    "    c = np.asarray([-1,  -0.05,  0.08,  0.13,\n",
    "        15,  1.5])\n",
    "    d = np.asarray([-1,  -1.5,  0.08,  0.13,\n",
    "        0.05,  0.05])\n",
    "    e = np.asarray([-1,  -0.05,  0.08,  1.5,\n",
    "        0.15,  0.15])\n",
    "    pts = point_generator(1000)\n",
    "    transformed_pts = nonlinear_transformation(pts)\n",
    "    for j in range(len(pts)):\n",
    "        if np.sign(a.dot(transformed_pts[j])) == np.sign(x[0].dot(transformed_pts[j])):\n",
    "            adiff += 1\n",
    "        if np.sign(b.dot(transformed_pts[j])) == np.sign(x[0].dot(transformed_pts[j])):\n",
    "            bdiff += 1\n",
    "        if np.sign(c.dot(transformed_pts[j])) == np.sign(x[0].dot(transformed_pts[j])):\n",
    "            cdiff += 1\n",
    "        if np.sign(d.dot(transformed_pts[j])) == np.sign(x[0].dot(transformed_pts[j])):\n",
    "            ddiff += 1\n",
    "        if np.sign(e.dot(transformed_pts[j])) == np.sign(x[0].dot(transformed_pts[j])):\n",
    "            ediff += 1\n",
    "print((adiff / 1000000, bdiff / 1000000, cdiff / 1000000, ddiff / 1000000, ediff / 1000000))"
   ]
  },
  {
   "cell_type": "code",
   "execution_count": 386,
   "metadata": {},
   "outputs": [
    {
     "data": {
      "text/plain": [
       "0.12399699999999995"
      ]
     },
     "execution_count": 386,
     "metadata": {},
     "output_type": "execute_result"
    }
   ],
   "source": [
    "e_out_transformation = 0\n",
    "for i in range(1000):\n",
    "    missclassified = 0\n",
    "    pts = point_generator(1000)\n",
    "    transformed = np.asarray(nonlinear_transformation(pts))\n",
    "    labeled_pts = nonlinear_classifier(pts)\n",
    "    for i in range(len(pts)):\n",
    "        if np.sign(w.dot(transformed[i])) != labeled_pts[i][3]:\n",
    "            missclassified += 1\n",
    "    e_out_transformation += (missclassified / 1000)\n",
    "avg_e_out_transformation = e_out_transformation / 1000\n",
    "avg_e_out_transformation"
   ]
  },
  {
   "cell_type": "code",
   "execution_count": null,
   "metadata": {},
   "outputs": [],
   "source": []
  }
 ],
 "metadata": {
  "kernelspec": {
   "display_name": "Python 3",
   "language": "python",
   "name": "python3"
  },
  "language_info": {
   "codemirror_mode": {
    "name": "ipython",
    "version": 3
   },
   "file_extension": ".py",
   "mimetype": "text/x-python",
   "name": "python",
   "nbconvert_exporter": "python",
   "pygments_lexer": "ipython3",
   "version": "3.6.5"
  }
 },
 "nbformat": 4,
 "nbformat_minor": 2
}
