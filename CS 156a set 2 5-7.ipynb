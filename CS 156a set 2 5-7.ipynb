{
 "cells": [
  {
   "cell_type": "code",
   "execution_count": 11,
   "metadata": {},
   "outputs": [],
   "source": [
    "import random as rand\n",
    "import numpy as np"
   ]
  },
  {
   "cell_type": "code",
   "execution_count": 12,
   "metadata": {},
   "outputs": [],
   "source": [
    "def point_generator(num):\n",
    "    points = []\n",
    "    for i in range(num):\n",
    "        x_coord = rand.uniform(-1, 1)\n",
    "        y_coord = rand.uniform(-1, 1)\n",
    "        point = [1, x_coord, y_coord]\n",
    "        points.append(point)\n",
    "    return points\n",
    "\n",
    "def line_maker():\n",
    "    point1 = (rand.uniform(-1, 1), rand.uniform(-1, 1))\n",
    "    point2 = (rand.uniform(-1, 1), rand.uniform(-1, 1))\n",
    "    m = (point2[1] - point1[1]) / (point2[0] - point1[0])\n",
    "    intercept = -m * point1[0] + point1[1]\n",
    "    return (m, intercept)\n",
    "\n",
    "def classifier(points, line):\n",
    "    label = 0\n",
    "    training_set = []\n",
    "    for i in range(len(points)):\n",
    "        if points[i][2] > points[i][1] * line[0] + line[1]:\n",
    "            label = 1\n",
    "        else:\n",
    "            label = -1\n",
    "        training_set.append((1, points[i][1], points[i][2], label))\n",
    "    return training_set\n",
    "\n",
    "def linear_regression(training_pts):\n",
    "    y = []\n",
    "    missclassified = 0\n",
    "    pts = np.asarray(point_generator(training_pts))\n",
    "    line = line_maker()\n",
    "    labeled_pts = classifier(pts, line)\n",
    "    pseudo_inverse = np.linalg.pinv(pts)\n",
    "    for i in range(training_pts):\n",
    "        y.append(labeled_pts[i][3])\n",
    "    y = np.asarray(y)\n",
    "    w = np.matmul(pseudo_inverse, y)\n",
    "    for i in range(len(pts)):\n",
    "        if np.sign(w.dot(pts[i])) != labeled_pts[i][3]:\n",
    "            missclassified += 1\n",
    "    return (w, line, missclassified / len(pts)) \n",
    "\n",
    "\n",
    "def perceptron(num, line, w):\n",
    "    points = point_generator(num)\n",
    "    target_function = line\n",
    "    labeled_set = classifier(points, target_function)\n",
    "    weight_vector = w\n",
    "    misclassified = labeled_set\n",
    "    iterations = 0\n",
    "    while len(misclassified) > 0:\n",
    "        iterations += 1\n",
    "        mpoint = rand.choice(misclassified)\n",
    "        label = mpoint[3]\n",
    "        for i in range(3):\n",
    "            weight_vector[i] += mpoint[i] * label\n",
    "        misclassified = []\n",
    "        for i in range(len(labeled_set)):\n",
    "            if np.sign(weight_vector[0] * labeled_set[i][0] +\n",
    "                    weight_vector[1] * labeled_set[i][1] +\n",
    "                    weight_vector[2] * labeled_set[i][2]) != labeled_set[i][3]:\n",
    "                misclassified.append(labeled_set[i])\n",
    "    return (weight_vector, iterations, target_function)"
   ]
  },
  {
   "cell_type": "code",
   "execution_count": 14,
   "metadata": {},
   "outputs": [
    {
     "data": {
      "text/plain": [
       "0.037830000000000065"
      ]
     },
     "execution_count": 14,
     "metadata": {},
     "output_type": "execute_result"
    }
   ],
   "source": [
    "lines = []\n",
    "hypotheses = []\n",
    "e_in = 0\n",
    "for i in range(1000):\n",
    "    x = linear_regression(100)\n",
    "    hypotheses.append(x[0])\n",
    "    lines.append(x[1])\n",
    "    e_in += x[2]\n",
    "avg_e_in = e_in / 1000\n",
    "avg_e_in"
   ]
  },
  {
   "cell_type": "code",
   "execution_count": 15,
   "metadata": {},
   "outputs": [
    {
     "data": {
      "text/plain": [
       "0.04777200000000006"
      ]
     },
     "execution_count": 15,
     "metadata": {},
     "output_type": "execute_result"
    }
   ],
   "source": [
    "e_out = 0\n",
    "for i in range(1000):\n",
    "    missclassified = 0\n",
    "    pts = point_generator(1000)\n",
    "    labeled_pts = classifier(pts, lines[i])\n",
    "    for j in range(len(pts)):\n",
    "        if np.sign(hypotheses[i].dot(pts[j])) != labeled_pts[j][3]:\n",
    "            missclassified += 1\n",
    "    e_out += (missclassified / 1000)\n",
    "avg_e_out = e_out / 1000\n",
    "avg_e_out"
   ]
  },
  {
   "cell_type": "code",
   "execution_count": 17,
   "metadata": {},
   "outputs": [
    {
     "data": {
      "text/plain": [
       "6.669"
      ]
     },
     "execution_count": 17,
     "metadata": {},
     "output_type": "execute_result"
    }
   ],
   "source": [
    "iters = 0\n",
    "for i in range(1000):\n",
    "    reg = linear_regression(10)\n",
    "    p = perceptron(10, reg[1], reg[0])\n",
    "    iters += p[1]\n",
    "avg_iters = iters / 1000\n",
    "avg_iters"
   ]
  },
  {
   "cell_type": "code",
   "execution_count": null,
   "metadata": {},
   "outputs": [],
   "source": []
  }
 ],
 "metadata": {
  "kernelspec": {
   "display_name": "Python 3",
   "language": "python",
   "name": "python3"
  },
  "language_info": {
   "codemirror_mode": {
    "name": "ipython",
    "version": 3
   },
   "file_extension": ".py",
   "mimetype": "text/x-python",
   "name": "python",
   "nbconvert_exporter": "python",
   "pygments_lexer": "ipython3",
   "version": "3.6.5"
  }
 },
 "nbformat": 4,
 "nbformat_minor": 2
}
