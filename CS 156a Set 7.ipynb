{
 "cells": [
  {
   "cell_type": "code",
   "execution_count": 199,
   "metadata": {},
   "outputs": [],
   "source": [
    "import numpy as np\n",
    "import matplotlib.pyplot as plt\n",
    "import random as rand\n",
    "import sklearn.svm as svm\n",
    "import math"
   ]
  },
  {
   "cell_type": "code",
   "execution_count": 76,
   "metadata": {},
   "outputs": [],
   "source": [
    "def point_generator(num):\n",
    "    points = []\n",
    "    for i in range(num):\n",
    "        x_coord = rand.uniform(-1, 1)\n",
    "        y_coord = rand.uniform(-1, 1)\n",
    "        point = (1, x_coord, y_coord)\n",
    "        points.append(point)\n",
    "    return points"
   ]
  },
  {
   "cell_type": "code",
   "execution_count": 77,
   "metadata": {},
   "outputs": [],
   "source": [
    "def rand_line_maker():\n",
    "    point1 = (rand.uniform(-1, 1), rand.uniform(-1, 1))\n",
    "    point2 = (rand.uniform(-1, 1), rand.uniform(-1, 1))\n",
    "    m = (point2[1] - point1[1]) / (point2[0] - point1[0])\n",
    "    intercept = -m * point1[0] + point1[1]\n",
    "    return (m, intercept)"
   ]
  },
  {
   "cell_type": "code",
   "execution_count": 80,
   "metadata": {},
   "outputs": [],
   "source": [
    "def classifier(points, line):\n",
    "    label = 0\n",
    "    training_set = []\n",
    "    for i in range(len(points)):\n",
    "        if points[i][1] > points[i][0] * line[0] + line[1]:\n",
    "            label = 1\n",
    "        else:\n",
    "            label = -1\n",
    "        training_set.append((points[i][0], points[i][1], points[i][2], label))\n",
    "    return training_set"
   ]
  },
  {
   "cell_type": "code",
   "execution_count": 160,
   "metadata": {},
   "outputs": [],
   "source": [
    "def perceptron(num):\n",
    "    y = []\n",
    "    points = point_generator(num)\n",
    "    target_function = rand_line_maker()\n",
    "    labeled_set = classifier(points, target_function)\n",
    "    for i in range(num):\n",
    "        y.append(labeled_set[i][3])\n",
    "    while y == [1] * num or y == [-1] * num:\n",
    "        y = []\n",
    "        points = point_generator(num)\n",
    "        target_function = rand_line_maker()\n",
    "        labeled_set = classifier(points, target_function)\n",
    "        for i in range(num):\n",
    "            y.append(labeled_set[i][3])\n",
    "    weight_vector = [0, 0, 0]\n",
    "    misclassified = labeled_set\n",
    "    iterations = 0\n",
    "    while len(misclassified) > 0:\n",
    "        mpoint = rand.choice(misclassified)\n",
    "        label = mpoint[3]\n",
    "        for i in range(3):\n",
    "            weight_vector[i] += mpoint[i] * label\n",
    "        misclassified = []\n",
    "        for i in range(len(labeled_set)):\n",
    "            if np.sign(weight_vector[0] * labeled_set[i][0] +\n",
    "                    weight_vector[1] * labeled_set[i][1] +\n",
    "                    weight_vector[2] * labeled_set[i][2]) != labeled_set[i][3]:\n",
    "                misclassified.append(labeled_set[i])\n",
    "    return (weight_vector, points, target_function, y)"
   ]
  },
  {
   "cell_type": "code",
   "execution_count": 5,
   "metadata": {},
   "outputs": [],
   "source": [
    "in_data = np.loadtxt(fname = \"C:\\\\Users\\\\Spencer\\\\Downloads\\\\in.dta.txt\")"
   ]
  },
  {
   "cell_type": "code",
   "execution_count": 6,
   "metadata": {},
   "outputs": [],
   "source": [
    "out_data = np.loadtxt(fname = \"C:\\\\Users\\\\Spencer\\\\Downloads\\\\out.dta.txt\")"
   ]
  },
  {
   "cell_type": "code",
   "execution_count": 7,
   "metadata": {},
   "outputs": [],
   "source": [
    "def nonlinear_transform(pts, k):\n",
    "    transformation = []\n",
    "    for pt in pts:\n",
    "        x1 = pt[0]\n",
    "        x2 = pt[1]\n",
    "        trans = [1, x1, x2, x1 ** 2, x2 ** 2, x1 * x2, abs((x1 - x2)), abs((x1 + x2))]\n",
    "        transformation.append(trans[:(k+1)])\n",
    "    return transformation"
   ]
  },
  {
   "cell_type": "code",
   "execution_count": 8,
   "metadata": {},
   "outputs": [],
   "source": [
    "def nonlinear_transformation_regression(training_pts, labels, k):\n",
    "    missclassified = 0\n",
    "    transformed_pts = np.asarray(nonlinear_transform(training_pts, k))\n",
    "    pseudo_inverse = np.linalg.pinv(transformed_pts)\n",
    "    y = np.asarray(labels)\n",
    "    w = np.matmul(pseudo_inverse, y)\n",
    "    for i in range(len(training_pts)):\n",
    "        if np.sign(w.dot(transformed_pts[i])) != labels[i]:\n",
    "            missclassified += 1\n",
    "    return (w, missclassified / len(training_pts)) "
   ]
  },
  {
   "cell_type": "code",
   "execution_count": 133,
   "metadata": {},
   "outputs": [],
   "source": [
    "def error(w, pts, labels, k):\n",
    "    e_out = 0\n",
    "    missclassified = 0\n",
    "    transformed = np.asarray(nonlinear_transform(pts, k))\n",
    "    for i in range(len(pts)):\n",
    "        if np.sign(w.dot(transformed[i])) != labels[i]:\n",
    "            missclassified += 1\n",
    "    e_out = missclassified / len(pts)\n",
    "    return e_out"
   ]
  },
  {
   "cell_type": "code",
   "execution_count": 141,
   "metadata": {},
   "outputs": [],
   "source": [
    "def error_perceptron(w, pts, labels):\n",
    "    e_out = 0\n",
    "    missclassified = 0\n",
    "    w = np.asarray(w)\n",
    "    pts = np.asarray(pts)\n",
    "    for i in range(len(pts)):\n",
    "        if np.sign(w.dot(pts[i])) != labels[i]:\n",
    "            missclassified += 1\n",
    "    e_out = missclassified / len(pts)\n",
    "    return e_out"
   ]
  },
  {
   "cell_type": "code",
   "execution_count": 19,
   "metadata": {},
   "outputs": [],
   "source": [
    "def line_maker(a, b):\n",
    "    m = (b[1] - a[1]) / (b[0] - a[0])\n",
    "    intercept = -m * a[0] + a[1]\n",
    "    return (m, intercept)"
   ]
  },
  {
   "cell_type": "code",
   "execution_count": 11,
   "metadata": {},
   "outputs": [],
   "source": [
    "in_pts = []\n",
    "for i in range(len(in_data)):\n",
    "    in_pts.append((in_data[i][0], in_data[i][1]))\n",
    "    \n",
    "in_y = []\n",
    "for i in range(len(in_data)):\n",
    "    in_y.append(in_data[i][2])\n",
    "    \n",
    "out_pts = []\n",
    "for i in range(len(out_data)):\n",
    "    out_pts.append((out_data[i][0], out_data[i][1]))\n",
    "    \n",
    "out_y = []\n",
    "for i in range(len(out_data)):\n",
    "    out_y.append(out_data[i][2])"
   ]
  },
  {
   "cell_type": "markdown",
   "metadata": {},
   "source": [
    "Problems 1, 2 and 5"
   ]
  },
  {
   "cell_type": "code",
   "execution_count": 134,
   "metadata": {},
   "outputs": [
    {
     "data": {
      "text/plain": [
       "([0.3, 0.5, 0.2, 0.0, 0.1], [0.42, 0.416, 0.188, 0.084, 0.072])"
      ]
     },
     "execution_count": 134,
     "metadata": {},
     "output_type": "execute_result"
    }
   ],
   "source": [
    "errors1 = []\n",
    "e_out1 = []\n",
    "for i in range(5):\n",
    "    i += 3\n",
    "    hypo = nonlinear_transformation_regression(in_data[:25], in_y[:25], i)\n",
    "    errors1.append(error(hypo[0], in_data[25:], in_y[25:], i))\n",
    "    e_out1.append(error(hypo[0], out_data, out_y, i))\n",
    "(errors1, e_out1)"
   ]
  },
  {
   "cell_type": "markdown",
   "metadata": {},
   "source": [
    "Problems 3, 4, and 5"
   ]
  },
  {
   "cell_type": "code",
   "execution_count": 13,
   "metadata": {},
   "outputs": [
    {
     "data": {
      "text/plain": [
       "([0.28, 0.36, 0.2, 0.08, 0.12], [0.396, 0.388, 0.284, 0.192, 0.196])"
      ]
     },
     "execution_count": 13,
     "metadata": {},
     "output_type": "execute_result"
    }
   ],
   "source": [
    "errors3 = []\n",
    "e_out3 = []\n",
    "for i in range(5):\n",
    "    i += 3\n",
    "    hypo = nonlinear_transformation_regression(in_data[25:], in_y[25:], i)\n",
    "    errors3.append(error(hypo[0], in_data[:25], in_y[:25], i))\n",
    "    e_out3.append(error(hypo[0], out_data, out_y, i))\n",
    "(errors3, e_out3)"
   ]
  },
  {
   "cell_type": "markdown",
   "metadata": {},
   "source": [
    "Problem 6"
   ]
  },
  {
   "cell_type": "code",
   "execution_count": 14,
   "metadata": {},
   "outputs": [
    {
     "data": {
      "text/plain": [
       "0.334169321774592"
      ]
     },
     "execution_count": 14,
     "metadata": {},
     "output_type": "execute_result"
    }
   ],
   "source": [
    "exp_value = 0\n",
    "for i in range(10000):\n",
    "    a = rand.uniform(0, 1)\n",
    "    b = rand.uniform(0, 1)\n",
    "    exp_value += min(a, b)\n",
    "exp_value / 10000"
   ]
  },
  {
   "cell_type": "markdown",
   "metadata": {},
   "source": [
    "Problem 8"
   ]
  },
  {
   "cell_type": "code",
   "execution_count": 205,
   "metadata": {},
   "outputs": [
    {
     "data": {
      "text/plain": [
       "0.585"
      ]
     },
     "execution_count": 205,
     "metadata": {},
     "output_type": "execute_result"
    }
   ],
   "source": [
    "better = 0\n",
    "for i in range(1000):\n",
    "    y = []\n",
    "    x1 = perceptron(10)\n",
    "    x2 = svm.SVC(C=math.inf, kernel='linear')\n",
    "    x2.fit(x1[1], x1[3])\n",
    "    pts = point_generator(1000)\n",
    "    labels = classifier(pts, x1[2])\n",
    "    for i in range(len(pts)):\n",
    "            y.append(labels[i][3])\n",
    "    svm_e = abs(x2.score(pts, y)-1)\n",
    "    if error_perceptron(x1[0], pts, y) > svm_e:\n",
    "        better += 1\n",
    "better / 1000"
   ]
  },
  {
   "cell_type": "markdown",
   "metadata": {},
   "source": [
    "Problems 9 and 10"
   ]
  },
  {
   "cell_type": "code",
   "execution_count": 204,
   "metadata": {},
   "outputs": [
    {
     "data": {
      "text/plain": [
       "(0.654, 2.999)"
      ]
     },
     "execution_count": 204,
     "metadata": {},
     "output_type": "execute_result"
    }
   ],
   "source": [
    "better = 0\n",
    "n_sv = 0\n",
    "for i in range(1000):\n",
    "    y = []\n",
    "    x1 = perceptron(100)\n",
    "    x2 = svm.SVC(C=math.inf, kernel='linear')\n",
    "    x2.fit(x1[1], x1[3])\n",
    "    pts = point_generator(10000)\n",
    "    labels = classifier(pts, x1[2])\n",
    "    for i in range(len(pts)):\n",
    "            y.append(labels[i][3])\n",
    "    svm_e = abs(x2.score(pts, y)-1)\n",
    "    if error_perceptron(x1[0], pts, y) > svm_e:\n",
    "        better += 1\n",
    "    n_sv += len(x2.support_vectors_)\n",
    "(better / 1000, n_sv / 1000)"
   ]
  },
  {
   "cell_type": "code",
   "execution_count": null,
   "metadata": {},
   "outputs": [],
   "source": []
  },
  {
   "cell_type": "code",
   "execution_count": null,
   "metadata": {},
   "outputs": [],
   "source": []
  }
 ],
 "metadata": {
  "kernelspec": {
   "display_name": "Python 3",
   "language": "python",
   "name": "python3"
  },
  "language_info": {
   "codemirror_mode": {
    "name": "ipython",
    "version": 3
   },
   "file_extension": ".py",
   "mimetype": "text/x-python",
   "name": "python",
   "nbconvert_exporter": "python",
   "pygments_lexer": "ipython3",
   "version": "3.6.5"
  }
 },
 "nbformat": 4,
 "nbformat_minor": 2
}
