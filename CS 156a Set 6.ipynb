{
 "cells": [
  {
   "cell_type": "code",
   "execution_count": 159,
   "metadata": {},
   "outputs": [],
   "source": [
    "import numpy as np\n",
    "import matplotlib.pyplot as plt"
   ]
  },
  {
   "cell_type": "code",
   "execution_count": 160,
   "metadata": {},
   "outputs": [],
   "source": [
    "train = np.loadtxt(fname = \"C:\\\\Users\\\\Spencer\\\\Downloads\\\\in.dta.txt\")"
   ]
  },
  {
   "cell_type": "code",
   "execution_count": 161,
   "metadata": {},
   "outputs": [],
   "source": [
    "test = np.loadtxt(fname = \"C:\\\\Users\\\\Spencer\\\\Downloads\\\\out.dta.txt\")"
   ]
  },
  {
   "cell_type": "code",
   "execution_count": 162,
   "metadata": {},
   "outputs": [],
   "source": [
    "def nonlinear_transformation_regression(training_pts, labels):\n",
    "    missclassified = 0\n",
    "    transformed_pts = np.asarray(nonlinear_transform(training_pts))\n",
    "    pseudo_inverse = np.linalg.pinv(transformed_pts)\n",
    "    y = np.asarray(labels)\n",
    "    w = np.matmul(pseudo_inverse, y)\n",
    "    for i in range(len(pts)):\n",
    "        if np.sign(w.dot(transformed_pts[i])) != labels[i]:\n",
    "            missclassified += 1\n",
    "    return (w, missclassified / len(pts)) "
   ]
  },
  {
   "cell_type": "code",
   "execution_count": 163,
   "metadata": {},
   "outputs": [],
   "source": [
    "def regression_with_decay(training_pts, labels, k):\n",
    "    missclassified = 0\n",
    "    transformed_pts = np.asarray(nonlinear_transform(training_pts))\n",
    "    pseudo_inverse = np.linalg.pinv(transformed_pts)\n",
    "    y = np.asarray(labels)\n",
    "    col = transformed_pts.shape[1]\n",
    "    inner_term = np.linalg.inv((np.matmul(transformed_pts.T, transformed_pts) + 10**k * np.identity(col)))\n",
    "    x = np.matmul(transformed_pts.T, transformed_pts)\n",
    "    intermed = np.matmul(inner_term, transformed_pts.T)\n",
    "    w = np.matmul(intermed, y)\n",
    "    for i in range(len(pts)):\n",
    "        if np.sign(w.dot(transformed_pts[i])) != labels[i]:\n",
    "            missclassified += 1\n",
    "    return (w, missclassified / len(pts)) "
   ]
  },
  {
   "cell_type": "code",
   "execution_count": 164,
   "metadata": {},
   "outputs": [],
   "source": [
    "def nonlinear_transform(pts):\n",
    "    transformation = []\n",
    "    for pt in pts:\n",
    "        x1 = pt[0]\n",
    "        x2 = pt[1]\n",
    "        transformation.append([1, x1, x2, x1 ** 2, x2 ** 2, x1 * x2, abs((x1 - x2)), abs((x1 + x2))])\n",
    "    return transformation"
   ]
  },
  {
   "cell_type": "code",
   "execution_count": 165,
   "metadata": {},
   "outputs": [],
   "source": [
    "y = []\n",
    "for i in range(len(train)):\n",
    "    y.append(train[i][2])"
   ]
  },
  {
   "cell_type": "code",
   "execution_count": 166,
   "metadata": {},
   "outputs": [],
   "source": [
    "pts = []\n",
    "for i in range(len(train)):\n",
    "    pts.append((train[i][0], train[i][1]))"
   ]
  },
  {
   "cell_type": "code",
   "execution_count": 167,
   "metadata": {},
   "outputs": [],
   "source": [
    "out_labels = []\n",
    "for i in range(len(test)):\n",
    "    out_labels.append(test[i][2])"
   ]
  },
  {
   "cell_type": "code",
   "execution_count": 168,
   "metadata": {},
   "outputs": [],
   "source": [
    "test_pts = []\n",
    "for i in range(len(test)):\n",
    "    test_pts.append((test[i][0], test[i][1]))"
   ]
  },
  {
   "cell_type": "markdown",
   "metadata": {},
   "source": [
    "Problem 2"
   ]
  },
  {
   "cell_type": "code",
   "execution_count": 169,
   "metadata": {},
   "outputs": [
    {
     "data": {
      "text/plain": [
       "(0.02857142857142857,\n",
       " array([-1.64706706, -0.14505927,  0.10154121, -2.03296844, -1.82804373,\n",
       "         2.48152945,  4.15893861,  0.31651714]))"
      ]
     },
     "execution_count": 169,
     "metadata": {},
     "output_type": "execute_result"
    }
   ],
   "source": [
    "e_in = 0\n",
    "w = np.asarray([0.0, 0.0, 0.0, 0.0, 0.0, 0.0, 0.0, 0.0])\n",
    "x = nonlinear_transformation_regression(pts, y)\n",
    "e_in += x[1]\n",
    "w += x[0]\n",
    "(e_in, w)"
   ]
  },
  {
   "cell_type": "code",
   "execution_count": 170,
   "metadata": {},
   "outputs": [
    {
     "data": {
      "text/plain": [
       "0.084"
      ]
     },
     "execution_count": 170,
     "metadata": {},
     "output_type": "execute_result"
    }
   ],
   "source": [
    "e_out = 0\n",
    "missclassified = 0\n",
    "transformed = np.asarray(nonlinear_transform(test_pts))\n",
    "for i in range(len(test_pts)):\n",
    "    if np.sign(w.dot(transformed[i])) != out_labels[i]:\n",
    "        missclassified += 1\n",
    "e_out = missclassified / len(test_pts)\n",
    "e_out"
   ]
  },
  {
   "cell_type": "markdown",
   "metadata": {},
   "source": [
    "Problem 3"
   ]
  },
  {
   "cell_type": "code",
   "execution_count": 171,
   "metadata": {},
   "outputs": [
    {
     "data": {
      "text/plain": [
       "(0.02857142857142857,\n",
       " array([-1.6432827 , -0.14333537,  0.10144329, -2.02456533, -1.81721505,\n",
       "         2.45550685,  4.14009201,  0.31960135]))"
      ]
     },
     "execution_count": 171,
     "metadata": {},
     "output_type": "execute_result"
    }
   ],
   "source": [
    "e_in_decay_small = 0\n",
    "w_decay_small = np.asarray([0.0, 0.0, 0.0, 0.0, 0.0, 0.0, 0.0, 0.0])\n",
    "x = regression_with_decay(pts, y, -3)\n",
    "e_in_decay_small += x[1]\n",
    "w_decay_small += x[0]\n",
    "(e_in_decay_small, w_decay_small)"
   ]
  },
  {
   "cell_type": "code",
   "execution_count": 172,
   "metadata": {},
   "outputs": [
    {
     "data": {
      "text/plain": [
       "0.08"
      ]
     },
     "execution_count": 172,
     "metadata": {},
     "output_type": "execute_result"
    }
   ],
   "source": [
    "missclassified = 0\n",
    "transformed = np.asarray(nonlinear_transform(test_pts))\n",
    "for i in range(len(test_pts)):\n",
    "    if np.sign(w_decay_small.dot(transformed[i])) != out_labels[i]:\n",
    "        missclassified += 1\n",
    "e_out_decay_small = missclassified / len(test_pts)\n",
    "e_out_decay_small"
   ]
  },
  {
   "cell_type": "markdown",
   "metadata": {},
   "source": [
    "Problem 4"
   ]
  },
  {
   "cell_type": "code",
   "execution_count": 173,
   "metadata": {},
   "outputs": [
    {
     "data": {
      "text/plain": [
       "(0.37142857142857144,\n",
       " array([ 0.00435688, -0.00134416,  0.0024939 ,  0.00328695,  0.00484127,\n",
       "        -0.00862023,  0.01786706, -0.00490192]))"
      ]
     },
     "execution_count": 173,
     "metadata": {},
     "output_type": "execute_result"
    }
   ],
   "source": [
    "e_in_decay_big = 0\n",
    "w_decay_big = np.asarray([0.0, 0.0, 0.0, 0.0, 0.0, 0.0, 0.0, 0.0])\n",
    "x = regression_with_decay(pts, y, 3)\n",
    "e_in_decay_big += x[1]\n",
    "w_decay_big += x[0]\n",
    "(e_in_decay_big, w_decay_big)"
   ]
  },
  {
   "cell_type": "code",
   "execution_count": 174,
   "metadata": {},
   "outputs": [
    {
     "data": {
      "text/plain": [
       "0.436"
      ]
     },
     "execution_count": 174,
     "metadata": {},
     "output_type": "execute_result"
    }
   ],
   "source": [
    "missclassified = 0\n",
    "transformed = np.asarray(nonlinear_transform(test_pts))\n",
    "for i in range(len(test_pts)):\n",
    "    if np.sign(w_decay_big.dot(transformed[i])) != out_labels[i]:\n",
    "        missclassified += 1\n",
    "e_out_decay_big = missclassified / len(test_pts)\n",
    "e_out_decay_big"
   ]
  },
  {
   "cell_type": "markdown",
   "metadata": {},
   "source": [
    "Problem 5"
   ]
  },
  {
   "cell_type": "code",
   "execution_count": 175,
   "metadata": {},
   "outputs": [
    {
     "data": {
      "text/plain": [
       "(0.228, 0.124, 0.092, 0.056, 0.084)"
      ]
     },
     "execution_count": 175,
     "metadata": {},
     "output_type": "execute_result"
    }
   ],
   "source": [
    "w_decay_2 = np.asarray([0.0, 0.0, 0.0, 0.0, 0.0, 0.0, 0.0, 0.0])\n",
    "x = regression_with_decay(pts, y, 2)\n",
    "w_decay_2 += x[0]\n",
    "(w_decay_2)\n",
    "\n",
    "w_decay_1 = np.asarray([0.0, 0.0, 0.0, 0.0, 0.0, 0.0, 0.0, 0.0])\n",
    "x = regression_with_decay(pts, y, 1)\n",
    "w_decay_1 += x[0]\n",
    "(w_decay_1)\n",
    "\n",
    "w_decay_0 = np.asarray([0.0, 0.0, 0.0, 0.0, 0.0, 0.0, 0.0, 0.0])\n",
    "x = regression_with_decay(pts, y, 0)\n",
    "w_decay_0 += x[0]\n",
    "(w_decay_0)\n",
    "\n",
    "w_decay_neg1 = np.asarray([0.0, 0.0, 0.0, 0.0, 0.0, 0.0, 0.0, 0.0])\n",
    "x = regression_with_decay(pts, y, -1)\n",
    "w_decay_neg1 += x[0]\n",
    "(w_decay_neg1)\n",
    "\n",
    "w_decay_neg2 = np.asarray([0.0, 0.0, 0.0, 0.0, 0.0, 0.0, 0.0, 0.0])\n",
    "x = regression_with_decay(pts, y, -2)\n",
    "w_decay_neg2 += x[0]\n",
    "(w_decay_neg2)\n",
    "\n",
    "missclassified = 0\n",
    "transformed = np.asarray(nonlinear_transform(test_pts))\n",
    "for i in range(len(test_pts)):\n",
    "    if np.sign(w_decay_2.dot(transformed[i])) != out_labels[i]:\n",
    "        missclassified += 1\n",
    "e_out_decay_2 = missclassified / len(test_pts)\n",
    "\n",
    "missclassified = 0\n",
    "transformed = np.asarray(nonlinear_transform(test_pts))\n",
    "for i in range(len(test_pts)):\n",
    "    if np.sign(w_decay_1.dot(transformed[i])) != out_labels[i]:\n",
    "        missclassified += 1\n",
    "e_out_decay_1 = missclassified / len(test_pts)\n",
    "\n",
    "missclassified = 0\n",
    "transformed = np.asarray(nonlinear_transform(test_pts))\n",
    "for i in range(len(test_pts)):\n",
    "    if np.sign(w_decay_0.dot(transformed[i])) != out_labels[i]:\n",
    "        missclassified += 1\n",
    "e_out_decay_0 = missclassified / len(test_pts)\n",
    "\n",
    "missclassified = 0\n",
    "transformed = np.asarray(nonlinear_transform(test_pts))\n",
    "for i in range(len(test_pts)):\n",
    "    if np.sign(w_decay_neg1.dot(transformed[i])) != out_labels[i]:\n",
    "        missclassified += 1\n",
    "e_out_decay_neg1 = missclassified / len(test_pts)\n",
    "\n",
    "missclassified = 0\n",
    "transformed = np.asarray(nonlinear_transform(test_pts))\n",
    "for i in range(len(test_pts)):\n",
    "    if np.sign(w_decay_neg2.dot(transformed[i])) != out_labels[i]:\n",
    "        missclassified += 1\n",
    "e_out_decay_neg2 = missclassified / len(test_pts)\n",
    "\n",
    "(e_out_decay_2, e_out_decay_1, e_out_decay_0, e_out_decay_neg1, e_out_decay_neg2)"
   ]
  },
  {
   "cell_type": "markdown",
   "metadata": {},
   "source": [
    "Problem 6"
   ]
  },
  {
   "cell_type": "code",
   "execution_count": 176,
   "metadata": {},
   "outputs": [
    {
     "data": {
      "text/plain": [
       "[0.084, 0.084, 0.08, 0.084, 0.056, 0.092, 0.124, 0.228, 0.436, 0.452, 0.456]"
      ]
     },
     "execution_count": 176,
     "metadata": {},
     "output_type": "execute_result"
    },
    {
     "data": {
      "image/png": "[encoded data removed]",
      "text/plain": [
       "<Figure size 432x288 with 1 Axes>"
      ]
     },
     "metadata": {},
     "output_type": "display_data"
    }
   ],
   "source": [
    "l = [i for i in np.arange(-15,15,1, dtype=float)]\n",
    "out = []\n",
    "for i in range(30):\n",
    "    w_decay = np.asarray([0.0, 0.0, 0.0, 0.0, 0.0, 0.0, 0.0, 0.0])\n",
    "    x = regression_with_decay(pts, y, l[i])\n",
    "    w_decay += x[0]\n",
    "    \n",
    "    missclassified = 0\n",
    "    transformed = np.asarray(nonlinear_transform(test_pts))\n",
    "    for i in range(len(test_pts)):\n",
    "        if np.sign(w_decay.dot(transformed[i])) != out_labels[i]:\n",
    "            missclassified += 1\n",
    "    e_out_decay = missclassified / len(test_pts)\n",
    "    out.append(e_out_decay) \n",
    "plt.plot(l, out)\n",
    "out[10:21]"
   ]
  },
  {
   "cell_type": "code",
   "execution_count": null,
   "metadata": {},
   "outputs": [],
   "source": []
  },
  {
   "cell_type": "code",
   "execution_count": null,
   "metadata": {},
   "outputs": [],
   "source": []
  },
  {
   "cell_type": "code",
   "execution_count": null,
   "metadata": {},
   "outputs": [],
   "source": []
  }
 ],
 "metadata": {
  "kernelspec": {
   "display_name": "Python 3",
   "language": "python",
   "name": "python3"
  },
  "language_info": {
   "codemirror_mode": {
    "name": "ipython",
    "version": 3
   },
   "file_extension": ".py",
   "mimetype": "text/x-python",
   "name": "python",
   "nbconvert_exporter": "python",
   "pygments_lexer": "ipython3",
   "version": "3.6.5"
  }
 },
 "nbformat": 4,
 "nbformat_minor": 2
}
