{
 "cells": [
  {
   "cell_type": "code",
   "execution_count": 107,
   "metadata": {},
   "outputs": [],
   "source": [
    "import random as rand\n",
    "import numpy as np"
   ]
  },
  {
   "cell_type": "code",
   "execution_count": 108,
   "metadata": {},
   "outputs": [],
   "source": [
    "def point_generator(num):\n",
    "    points = []\n",
    "    for i in range(num):\n",
    "        x_coord = rand.uniform(-1, 1)\n",
    "        y_coord = rand.uniform(-1, 1)\n",
    "        point = [1, x_coord, y_coord]\n",
    "        points.append(point)\n",
    "    return points\n",
    "\n",
    "def line_maker():\n",
    "    point1 = (rand.uniform(-1, 1), rand.uniform(-1, 1))\n",
    "    point2 = (rand.uniform(-1, 1), rand.uniform(-1, 1))\n",
    "    m = (point2[1] - point1[1]) / (point2[0] - point1[0])\n",
    "    intercept = -m * point1[0] + point1[1]\n",
    "    return (m, intercept)\n",
    "\n",
    "def classifier(points, line):\n",
    "    label = 0\n",
    "    training_set = []\n",
    "    for i in range(len(points)):\n",
    "        if points[i][2] > points[i][1] * line[0] + line[1]:\n",
    "            label = 1\n",
    "        else:\n",
    "            label = -1\n",
    "        training_set.append((1, points[i][1], points[i][2], label))\n",
    "    return training_set\n",
    "\n",
    "def linear_regression_nonlinear_classifier(training_pts):\n",
    "    y = []\n",
    "    missclassified = 0\n",
    "    pts = point_generator(training_pts)\n",
    "    pseudo_inverse = np.linalg.pinv(pts)\n",
    "    labeled_pts = nonlinear_classifier(pts)\n",
    "    for i in range(training_pts):\n",
    "        y.append(labeled_pts[i][1])\n",
    "    y = np.asarray(y)\n",
    "    w = np.matmul(pseudo_inverse, y)\n",
    "    for i in range(len(pts)):\n",
    "        if np.sign(w.dot(pts[i])) != labeled_pts[i][1]:\n",
    "            missclassified += 1\n",
    "    return (w, missclassified / len(pts))   \n",
    "\n",
    "def nonlinear_transformation_regression(training_pts):\n",
    "    y = []\n",
    "    missclassified = 0\n",
    "    pts = point_generator(training_pts)\n",
    "    transformed_pts = np.asarray(nonlinear_transformation(pts))\n",
    "    labeled_pts = nonlinear_classifier(pts)\n",
    "    pseudo_inverse = np.linalg.pinv(transformed_pts)\n",
    "    for i in range(training_pts):\n",
    "        y.append(labeled_pts[i][1])\n",
    "    y = np.asarray(y)\n",
    "    w = np.matmul(pseudo_inverse, y)\n",
    "    for i in range(len(pts)):\n",
    "        if np.sign(w.dot(transformed_pts[i])) != labeled_pts[i][1]:\n",
    "            missclassified += 1\n",
    "    return (w, missclassified / len(pts)) "
   ]
  },
  {
   "cell_type": "code",
   "execution_count": 109,
   "metadata": {},
   "outputs": [],
   "source": [
    "def nonlinear_classifier(pts):\n",
    "    points = []\n",
    "    for i in range(len(pts)):\n",
    "        pt = 0\n",
    "        noise = rand.randint(0, 9)\n",
    "        classification = np.sign(pts[i][1] ** 2 + pts[i][2] ** 2 - 0.6)\n",
    "        if noise != 0:\n",
    "            pt = [pts[i], classification]\n",
    "        else:\n",
    "            pt = [pts[i], (classification * -1)]\n",
    "        points.append(pt)\n",
    "    return points"
   ]
  },
  {
   "cell_type": "code",
   "execution_count": 110,
   "metadata": {},
   "outputs": [],
   "source": [
    "def nonlinear_classifier_no_noise(pts):\n",
    "    for pt in pts:\n",
    "        classification = np.sign(pt[1] ** 2 + pt[2] ** 2 - 0.6)\n",
    "        pt.append(classification)\n",
    "    return pts"
   ]
  },
  {
   "cell_type": "code",
   "execution_count": 111,
   "metadata": {},
   "outputs": [],
   "source": [
    "def nonlinear_transformation(pts):\n",
    "    transformation = []\n",
    "    for pt in pts:\n",
    "        transformation.append([1, pt[1], pt[2], pt[1] * pt[2], pt[1] ** 2, pt[2] ** 2])\n",
    "    return transformation"
   ]
  },
  {
   "cell_type": "code",
   "execution_count": 112,
   "metadata": {},
   "outputs": [
    {
     "data": {
      "text/plain": [
       "0.5039609999999995"
      ]
     },
     "execution_count": 112,
     "metadata": {},
     "output_type": "execute_result"
    }
   ],
   "source": [
    "e_in_nonlinear = 0\n",
    "for i in range(1000):\n",
    "    x = linear_regression_nonlinear_classifier(1000)\n",
    "    e_in_nonlinear += x[1]\n",
    "avg_e_in_nonlinear = e_in_nonlinear / 1000\n",
    "avg_e_in_nonlinear"
   ]
  },
  {
   "cell_type": "code",
   "execution_count": 113,
   "metadata": {},
   "outputs": [
    {
     "data": {
      "text/plain": [
       "array([-9.93242135e-01,  6.50834961e-04, -1.82953701e-04, -1.45412735e-03,\n",
       "        1.55829872e+00,  1.55885172e+00])"
      ]
     },
     "execution_count": 113,
     "metadata": {},
     "output_type": "execute_result"
    }
   ],
   "source": [
    "w = [0, 0, 0, 0, 0, 0]\n",
    "for i in range(1000):\n",
    "    x = nonlinear_transformation_regression(1000)\n",
    "    for i in range(len(w)):\n",
    "        w[i] += x[0][i]\n",
    "for j in range(len(w)):\n",
    "    w[j] /= 1000\n",
    "w = np.asarray(w)\n",
    "w"
   ]
  },
  {
   "cell_type": "code",
   "execution_count": 114,
   "metadata": {},
   "outputs": [
    {
     "data": {
      "text/plain": [
       "0.12361000000000008"
      ]
     },
     "execution_count": 114,
     "metadata": {},
     "output_type": "execute_result"
    }
   ],
   "source": [
    "e_out_transformation = 0\n",
    "for i in range(1000):\n",
    "    missclassified = 0\n",
    "    pts = point_generator(1000)\n",
    "    transformed = np.asarray(nonlinear_transformation(pts))\n",
    "    labeled_pts = nonlinear_classifier(pts)\n",
    "    for i in range(len(pts)):\n",
    "        if np.sign(w.dot(transformed[i])) != labeled_pts[i][1]:\n",
    "            missclassified += 1\n",
    "    e_out_transformation += (missclassified / 1000)\n",
    "avg_e_out_transformation = e_out_transformation / 1000\n",
    "avg_e_out_transformation"
   ]
  },
  {
   "cell_type": "code",
   "execution_count": 115,
   "metadata": {},
   "outputs": [
    {
     "name": "stdout",
     "output_type": "stream",
     "text": [
      "(0.962316, 0.661555, 0.661816, 0.632929, 0.562589)\n"
     ]
    }
   ],
   "source": [
    "adiff = 0\n",
    "bdiff = 0\n",
    "cdiff = 0\n",
    "ddiff = 0\n",
    "ediff = 0\n",
    "for i in range(1000):\n",
    "    x = nonlinear_transformation_regression(1000)\n",
    "    a = np.asarray([-1,  -0.05,  0.08,  0.13,\n",
    "        1.5,  1.5])\n",
    "    b = np.asarray([-1,  -0.05,  0.08,  0.13,\n",
    "        1.5,  15])\n",
    "    c = np.asarray([-1,  -0.05,  0.08,  0.13,\n",
    "        15,  1.5])\n",
    "    d = np.asarray([-1,  -1.5,  0.08,  0.13,\n",
    "        0.05,  0.05])\n",
    "    e = np.asarray([-1,  -0.05,  0.08,  1.5,\n",
    "        0.15,  0.15])\n",
    "    pts = point_generator(1000)\n",
    "    transformed_pts = nonlinear_transformation(pts)\n",
    "    for j in range(len(pts)):\n",
    "        if np.sign(a.dot(transformed_pts[j])) == np.sign(x[0].dot(transformed_pts[j])):\n",
    "            adiff += 1\n",
    "        if np.sign(b.dot(transformed_pts[j])) == np.sign(x[0].dot(transformed_pts[j])):\n",
    "            bdiff += 1\n",
    "        if np.sign(c.dot(transformed_pts[j])) == np.sign(x[0].dot(transformed_pts[j])):\n",
    "            cdiff += 1\n",
    "        if np.sign(d.dot(transformed_pts[j])) == np.sign(x[0].dot(transformed_pts[j])):\n",
    "            ddiff += 1\n",
    "        if np.sign(e.dot(transformed_pts[j])) == np.sign(x[0].dot(transformed_pts[j])):\n",
    "            ediff += 1\n",
    "print((adiff / 1000000, bdiff / 1000000, cdiff / 1000000, ddiff / 1000000, ediff / 1000000))"
   ]
  },
  {
   "cell_type": "code",
   "execution_count": 1,
   "metadata": {},
   "outputs": [
    {
     "ename": "NameError",
     "evalue": "name 'w' is not defined",
     "output_type": "error",
     "traceback": [
      "\u001b[1;31m---------------------------------------------------------------------------\u001b[0m",
      "\u001b[1;31mNameError\u001b[0m                                 Traceback (most recent call last)",
      "\u001b[1;32m<ipython-input-1-74c7db5447c3>\u001b[0m in \u001b[0;36m<module>\u001b[1;34m()\u001b[0m\n\u001b[1;32m----> 1\u001b[1;33m \u001b[0mw\u001b[0m\u001b[1;33m\u001b[0m\u001b[0m\n\u001b[0m",
      "\u001b[1;31mNameError\u001b[0m: name 'w' is not defined"
     ]
    }
   ],
   "source": []
  },
  {
   "cell_type": "code",
   "execution_count": null,
   "metadata": {},
   "outputs": [],
   "source": []
  }
 ],
 "metadata": {
  "kernelspec": {
   "display_name": "Python 3",
   "language": "python",
   "name": "python3"
  },
  "language_info": {
   "codemirror_mode": {
    "name": "ipython",
    "version": 3
   },
   "file_extension": ".py",
   "mimetype": "text/x-python",
   "name": "python",
   "nbconvert_exporter": "python",
   "pygments_lexer": "ipython3",
   "version": "3.6.5"
  }
 },
 "nbformat": 4,
 "nbformat_minor": 2
}
